{
  "nbformat": 4,
  "nbformat_minor": 0,
  "metadata": {
    "colab": {
      "name": "lab4_DT_digits_dataset.ipynb",
      "provenance": [],
      "collapsed_sections": [],
      "include_colab_link": true
    },
    "kernelspec": {
      "display_name": "Python 3",
      "language": "python",
      "name": "python3"
    },
    "language_info": {
      "codemirror_mode": {
        "name": "ipython",
        "version": 3
      },
      "file_extension": ".py",
      "mimetype": "text/x-python",
      "name": "python",
      "nbconvert_exporter": "python",
      "pygments_lexer": "ipython3",
      "version": "3.8.10"
    }
  },
  "cells": [
    {
      "cell_type": "markdown",
      "metadata": {
        "id": "view-in-github",
        "colab_type": "text"
      },
      "source": [
        "<a href=\"https://colab.research.google.com/github/Hena-123/095_HenaPatel/blob/main/lab4_DT_digits_dataset.ipynb\" target=\"_parent\"><img src=\"https://colab.research.google.com/assets/colab-badge.svg\" alt=\"Open In Colab\"/></a>"
      ]
    },
    {
      "cell_type": "markdown",
      "metadata": {
        "id": "p-4fktY9JWC6"
      },
      "source": [
        "# **Decsion Tree classifier**"
      ]
    },
    {
      "cell_type": "markdown",
      "metadata": {
        "id": "nSlWa5R2Jd9M"
      },
      "source": [
        "### **Step 1: Import necessary libraries.**\n",
        "\n"
      ]
    },
    {
      "cell_type": "code",
      "metadata": {
        "id": "19-VWLo5dRM_"
      },
      "source": [
        "#Import scikit-learn dataset library\n",
        "from sklearn import datasets\n",
        "from sklearn import preprocessing\n",
        "from sklearn.tree import DecisionTreeClassifier\n",
        "import pandas as pd\n",
        "import numpy as np\n",
        "from sklearn.model_selection import train_test_split\n",
        "from sklearn import metrics\n",
        "from sklearn.metrics import confusion_matrix\n",
        "from sklearn.metrics import precision_score\n",
        "from sklearn.metrics import recall_score\n",
        "import matplotlib.pyplot as plt\n",
        "\n",
        "#Load dataset\n",
        "digits = datasets.load_digits()"
      ],
      "execution_count": null,
      "outputs": []
    },
    {
      "cell_type": "markdown",
      "metadata": {
        "id": "LU3iHq2uJfYq"
      },
      "source": [
        "### **Step 2: Plot the digits dataset**"
      ]
    },
    {
      "cell_type": "code",
      "metadata": {
        "colab": {
          "base_uri": "https://localhost:8080/",
          "height": 282
        },
        "id": "GkclSqLwCoco",
        "outputId": "822e71a3-2380-4d9b-c21f-014fd40d7444"
      },
      "source": [
        "plt.figure(figsize = (20, 20))\n",
        "\n",
        "for i in range(10):\n",
        "    plt.subplot(8, 8, i + 1)\n",
        "    plt.imshow(digits.images[i])"
      ],
      "execution_count": null,
      "outputs": [
        {
          "output_type": "display_data",
          "data": {
            "image/png": "[encoded data removed]",
            "text/plain": [
              "<Figure size 1440x1440 with 10 Axes>"
            ]
          },
          "metadata": {
            "needs_background": "light"
          }
        }
      ]
    },
    {
      "cell_type": "markdown",
      "metadata": {
        "id": "OKszlorzJ08l"
      },
      "source": [
        "### **Step 3: Display the size of dataset and target names**"
      ]
    },
    {
      "cell_type": "code",
      "metadata": {
        "id": "STpVNWyrdRNb",
        "colab": {
          "base_uri": "https://localhost:8080/"
        },
        "outputId": "0b08a4ba-b27d-4222-8e03-21c4a1cce99b"
      },
      "source": [
        "# print the data\n",
        "print(\"Data: \", digits.data)\n",
        "\n",
        "# print the label type of wine(class_0, class_1, class_2)\n",
        "print(\"Target names: \", digits.target_names)\n",
        "\n",
        "# print data(feature)shape\n",
        "print(digits.data.shape)"
      ],
      "execution_count": null,
      "outputs": [
        {
          "output_type": "stream",
          "name": "stdout",
          "text": [
            "Data:  [[ 0.  0.  5. ...  0.  0.  0.]\n",
            " [ 0.  0.  0. ... 10.  0.  0.]\n",
            " [ 0.  0.  0. ... 16.  9.  0.]\n",
            " ...\n",
            " [ 0.  0.  1. ...  6.  0.  0.]\n",
            " [ 0.  0.  2. ... 12.  0.  0.]\n",
            " [ 0.  0. 10. ... 12.  1.  0.]]\n",
            "Target names:  [0 1 2 3 4 5 6 7 8 9]\n",
            "(1797, 64)\n"
          ]
        }
      ]
    },
    {
      "cell_type": "markdown",
      "metadata": {
        "id": "lIyJ5c2YJswE"
      },
      "source": [
        "### **Step 4: Split the data**"
      ]
    },
    {
      "cell_type": "code",
      "metadata": {
        "id": "SNoEzna3dRN2"
      },
      "source": [
        "X_train, X_test, Y_train, Y_test = train_test_split(digits.data, digits.target, test_size = 0.20, random_state = 95)"
      ],
      "execution_count": null,
      "outputs": []
    },
    {
      "cell_type": "markdown",
      "metadata": {
        "id": "3x9Pcg7rJyL_"
      },
      "source": [
        "### **Step 5: Train ’Create and Train DecisionTreeClassifier’**"
      ]
    },
    {
      "cell_type": "code",
      "metadata": {
        "id": "CRct6OrjdROI"
      },
      "source": [
        "clf = DecisionTreeClassifier(criterion='entropy',max_leaf_nodes=95,random_state=95) # Define the classifier\n",
        "clf = clf.fit(X_train,Y_train)  # Train the classifier\n",
        "y_pred = clf.predict(X_test)  #Predict the response for test dataset"
      ],
      "execution_count": null,
      "outputs": []
    },
    {
      "cell_type": "markdown",
      "metadata": {
        "id": "kVzWDkktKAfY"
      },
      "source": [
        "### **Step 6: Plot the actual answer and predicted answer**"
      ]
    },
    {
      "cell_type": "code",
      "metadata": {
        "colab": {
          "base_uri": "https://localhost:8080/",
          "height": 168
        },
        "id": "U8aA1Y_dHZI7",
        "outputId": "8c0c71f5-707e-4800-f62e-70203c481265"
      },
      "source": [
        "_, axes = plt.subplots(nrows=1, ncols=4, figsize=(10, 3))\n",
        "for ax, image, prediction in zip(axes, X_test, y_pred):\n",
        "    ax.set_axis_off()\n",
        "    image = image.reshape(8, 8)\n",
        "    ax.imshow(image, cmap=plt.cm.magma_r, interpolation='nearest')\n",
        "    ax.set_title(f'Prediction: {prediction}')"
      ],
      "execution_count": null,
      "outputs": [
        {
          "output_type": "display_data",
          "data": {
            "image/png": "[encoded data removed]",
            "text/plain": [
              "<Figure size 720x216 with 4 Axes>"
            ]
          },
          "metadata": {
            "needs_background": "light"
          }
        }
      ]
    },
    {
      "cell_type": "code",
      "metadata": {
        "colab": {
          "base_uri": "https://localhost:8080/",
          "height": 168
        },
        "id": "wjhSbVy7HtXh",
        "outputId": "501371c0-28f8-44f1-f016-fa18ea439e57"
      },
      "source": [
        "_, axes = plt.subplots(nrows=1, ncols=4, figsize=(10, 3))\n",
        "for ax, image, prediction in zip(axes, X_test, Y_test):\n",
        "    ax.set_axis_off()\n",
        "    image = image.reshape(8, 8)\n",
        "    ax.imshow(image, cmap=plt.cm.YlGnBu_r, interpolation='nearest')\n",
        "    ax.set_title(f'Actual: {prediction}')"
      ],
      "execution_count": null,
      "outputs": [
        {
          "output_type": "display_data",
          "data": {
            "image/png": "[encoded data removed]",
            "text/plain": [
              "<Figure size 720x216 with 4 Axes>"
            ]
          },
          "metadata": {
            "needs_background": "light"
          }
        }
      ]
    },
    {
      "cell_type": "markdown",
      "metadata": {
        "id": "JLAd0S5dKKWr"
      },
      "source": [
        "### **Step 7: Plot the confusion matrix and other performance measures**"
      ]
    },
    {
      "cell_type": "code",
      "metadata": {
        "id": "EUmpqOTcdROY",
        "colab": {
          "base_uri": "https://localhost:8080/"
        },
        "outputId": "e5728de7-2fe9-4eb4-8e7c-836be950bb9c"
      },
      "source": [
        "confusion_matrix(Y_test, y_pred)\n",
        "print(metrics.classification_report(Y_test, y_pred,zero_division=0))\n"
      ],
      "execution_count": null,
      "outputs": [
        {
          "output_type": "stream",
          "name": "stdout",
          "text": [
            "              precision    recall  f1-score   support\n",
            "\n",
            "           0       0.92      0.92      0.92        39\n",
            "           1       0.91      0.87      0.89        45\n",
            "           2       0.81      0.79      0.80        33\n",
            "           3       0.87      0.84      0.86        32\n",
            "           4       0.89      0.92      0.91        37\n",
            "           5       0.82      0.91      0.86        35\n",
            "           6       1.00      0.86      0.93        36\n",
            "           7       0.95      0.95      0.95        39\n",
            "           8       0.73      0.80      0.76        30\n",
            "           9       0.91      0.94      0.93        34\n",
            "\n",
            "    accuracy                           0.88       360\n",
            "   macro avg       0.88      0.88      0.88       360\n",
            "weighted avg       0.89      0.88      0.88       360\n",
            "\n"
          ]
        }
      ]
    },
    {
      "cell_type": "code",
      "metadata": {
        "colab": {
          "base_uri": "https://localhost:8080/",
          "height": 493
        },
        "id": "g3u-B84KHEIq",
        "outputId": "0452762b-17ee-463b-9389-ad18e2c6e432"
      },
      "source": [
        "disp = metrics.plot_confusion_matrix(clf, X_test, Y_test)\n",
        "disp.figure_.suptitle(\"Confusion Matrix\")\n",
        "print(f\"Confusion matrix:\\n{disp.confusion_matrix}\")\n",
        "\n",
        "plt.show()"
      ],
      "execution_count": null,
      "outputs": [
        {
          "output_type": "stream",
          "name": "stdout",
          "text": [
            "Confusion matrix:\n",
            "[[36  0  0  0  2  0  0  0  0  1]\n",
            " [ 0 39  1  1  0  1  0  0  3  0]\n",
            " [ 2  0 26  1  0  2  0  0  2  0]\n",
            " [ 0  1  0 27  0  0  0  1  2  1]\n",
            " [ 1  0  0  1 34  1  0  0  0  0]\n",
            " [ 0  0  2  0  0 32  0  0  1  0]\n",
            " [ 0  0  1  0  1  2 31  0  1  0]\n",
            " [ 0  0  0  0  0  1  0 37  0  1]\n",
            " [ 0  3  2  0  1  0  0  0 24  0]\n",
            " [ 0  0  0  1  0  0  0  1  0 32]]\n"
          ]
        },
        {
          "output_type": "display_data",
          "data": {
            "image/png": "[encoded data removed]",
            "text/plain": [
              "<Figure size 432x288 with 2 Axes>"
            ]
          },
          "metadata": {
            "needs_background": "light"
          }
        }
      ]
    }
  ]
}