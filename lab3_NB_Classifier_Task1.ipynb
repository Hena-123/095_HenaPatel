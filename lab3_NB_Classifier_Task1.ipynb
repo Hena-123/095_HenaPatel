{
  "nbformat": 4,
  "nbformat_minor": 0,
  "metadata": {
    "colab": {
      "name": "lab3_NB_Classifier_Task1.ipynb",
      "provenance": [],
      "collapsed_sections": [],
      "authorship_tag": "ABX9TyMc3WaFQt+9r/sexJUvebPq",
      "include_colab_link": true
    },
    "kernelspec": {
      "display_name": "Python 3",
      "name": "python3"
    },
    "language_info": {
      "name": "python"
    }
  },
  "cells": [
    {
      "cell_type": "markdown",
      "metadata": {
        "id": "view-in-github",
        "colab_type": "text"
      },
      "source": [
        "<a href=\"https://colab.research.google.com/github/Hena-123/095_HenaPatel/blob/main/lab3_NB_Classifier_Task1.ipynb\" target=\"_parent\"><img src=\"https://colab.research.google.com/assets/colab-badge.svg\" alt=\"Open In Colab\"/></a>"
      ]
    },
    {
      "cell_type": "code",
      "metadata": {
        "id": "PcITNQM-c1IF"
      },
      "source": [
        "from sklearn import preprocessing\n",
        "from sklearn.naive_bayes import GaussianNB, MultinomialNB\n",
        "import pandas as pd\n",
        "import numpy as np\n",
        "from sklearn.model_selection import train_test_split\n",
        "from sklearn import metrics\n",
        "from sklearn.metrics import confusion_matrix\n",
        "from sklearn.metrics import precision_score\n",
        "from sklearn.metrics import recall_score"
      ],
      "execution_count": null,
      "outputs": []
    },
    {
      "cell_type": "code",
      "metadata": {
        "id": "oAbeHUgoajms"
      },
      "source": [
        "data = pd.read_csv('Dataset2.csv')"
      ],
      "execution_count": null,
      "outputs": []
    },
    {
      "cell_type": "code",
      "metadata": {
        "colab": {
          "background_save": true,
          "base_uri": "https://localhost:8080/"
        },
        "id": "unPzzJvk1GRo",
        "outputId": "028f9018-6e40-4b09-bb7f-8634fdc12e7f"
      },
      "source": [
        "feature_names = np.array(data.columns[:-1])\n",
        "print(feature_names)\n",
        "print(type(feature_names))\n",
        "target_names = np.array(data.columns[-1:])\n",
        "print(target_names)"
      ],
      "execution_count": null,
      "outputs": [
        {
          "name": "stdout",
          "output_type": "stream",
          "text": [
            "['Outlook' 'Temp' 'Wind' 'Humidity']\n",
            "<class 'numpy.ndarray'>\n",
            "['Class']\n"
          ]
        }
      ]
    },
    {
      "cell_type": "code",
      "metadata": {
        "colab": {
          "base_uri": "https://localhost:8080/",
          "height": 480
        },
        "id": "jfVUAoAZHJo_",
        "outputId": "b75db3bd-5eec-431a-af48-b1ad5d58e5da"
      },
      "source": [
        "data"
      ],
      "execution_count": null,
      "outputs": [
        {
          "data": {
            "text/html": [
              "<div>\n",
              "<style scoped>\n",
              "    .dataframe tbody tr th:only-of-type {\n",
              "        vertical-align: middle;\n",
              "    }\n",
              "\n",
              "    .dataframe tbody tr th {\n",
              "        vertical-align: top;\n",
              "    }\n",
              "\n",
              "    .dataframe thead th {\n",
              "        text-align: right;\n",
              "    }\n",
              "</style>\n",
              "<table border=\"1\" class=\"dataframe\">\n",
              "  <thead>\n",
              "    <tr style=\"text-align: right;\">\n",
              "      <th></th>\n",
              "      <th>Overcast</th>\n",
              "      <th>Rainy</th>\n",
              "      <th>Sunny</th>\n",
              "      <th>Cool</th>\n",
              "      <th>Hot</th>\n",
              "      <th>Mild</th>\n",
              "      <th>False</th>\n",
              "      <th>True</th>\n",
              "      <th>High</th>\n",
              "      <th>Low</th>\n",
              "      <th>Normal</th>\n",
              "    </tr>\n",
              "  </thead>\n",
              "  <tbody>\n",
              "    <tr>\n",
              "      <th>0</th>\n",
              "      <td>0.0</td>\n",
              "      <td>1.0</td>\n",
              "      <td>0.0</td>\n",
              "      <td>0.0</td>\n",
              "      <td>1.0</td>\n",
              "      <td>0.0</td>\n",
              "      <td>1.0</td>\n",
              "      <td>0.0</td>\n",
              "      <td>0.0</td>\n",
              "      <td>0.0</td>\n",
              "      <td>1.0</td>\n",
              "    </tr>\n",
              "    <tr>\n",
              "      <th>1</th>\n",
              "      <td>0.0</td>\n",
              "      <td>1.0</td>\n",
              "      <td>0.0</td>\n",
              "      <td>0.0</td>\n",
              "      <td>1.0</td>\n",
              "      <td>0.0</td>\n",
              "      <td>0.0</td>\n",
              "      <td>1.0</td>\n",
              "      <td>1.0</td>\n",
              "      <td>0.0</td>\n",
              "      <td>0.0</td>\n",
              "    </tr>\n",
              "    <tr>\n",
              "      <th>2</th>\n",
              "      <td>1.0</td>\n",
              "      <td>0.0</td>\n",
              "      <td>0.0</td>\n",
              "      <td>0.0</td>\n",
              "      <td>1.0</td>\n",
              "      <td>0.0</td>\n",
              "      <td>1.0</td>\n",
              "      <td>0.0</td>\n",
              "      <td>0.0</td>\n",
              "      <td>0.0</td>\n",
              "      <td>1.0</td>\n",
              "    </tr>\n",
              "    <tr>\n",
              "      <th>3</th>\n",
              "      <td>0.0</td>\n",
              "      <td>0.0</td>\n",
              "      <td>1.0</td>\n",
              "      <td>0.0</td>\n",
              "      <td>0.0</td>\n",
              "      <td>1.0</td>\n",
              "      <td>1.0</td>\n",
              "      <td>0.0</td>\n",
              "      <td>0.0</td>\n",
              "      <td>0.0</td>\n",
              "      <td>1.0</td>\n",
              "    </tr>\n",
              "    <tr>\n",
              "      <th>4</th>\n",
              "      <td>0.0</td>\n",
              "      <td>0.0</td>\n",
              "      <td>1.0</td>\n",
              "      <td>0.0</td>\n",
              "      <td>0.0</td>\n",
              "      <td>1.0</td>\n",
              "      <td>1.0</td>\n",
              "      <td>0.0</td>\n",
              "      <td>0.0</td>\n",
              "      <td>0.0</td>\n",
              "      <td>1.0</td>\n",
              "    </tr>\n",
              "    <tr>\n",
              "      <th>5</th>\n",
              "      <td>0.0</td>\n",
              "      <td>0.0</td>\n",
              "      <td>1.0</td>\n",
              "      <td>0.0</td>\n",
              "      <td>0.0</td>\n",
              "      <td>1.0</td>\n",
              "      <td>0.0</td>\n",
              "      <td>1.0</td>\n",
              "      <td>0.0</td>\n",
              "      <td>1.0</td>\n",
              "      <td>0.0</td>\n",
              "    </tr>\n",
              "    <tr>\n",
              "      <th>6</th>\n",
              "      <td>1.0</td>\n",
              "      <td>0.0</td>\n",
              "      <td>0.0</td>\n",
              "      <td>1.0</td>\n",
              "      <td>0.0</td>\n",
              "      <td>0.0</td>\n",
              "      <td>0.0</td>\n",
              "      <td>1.0</td>\n",
              "      <td>0.0</td>\n",
              "      <td>0.0</td>\n",
              "      <td>1.0</td>\n",
              "    </tr>\n",
              "    <tr>\n",
              "      <th>7</th>\n",
              "      <td>0.0</td>\n",
              "      <td>1.0</td>\n",
              "      <td>0.0</td>\n",
              "      <td>1.0</td>\n",
              "      <td>0.0</td>\n",
              "      <td>0.0</td>\n",
              "      <td>1.0</td>\n",
              "      <td>0.0</td>\n",
              "      <td>0.0</td>\n",
              "      <td>0.0</td>\n",
              "      <td>1.0</td>\n",
              "    </tr>\n",
              "    <tr>\n",
              "      <th>8</th>\n",
              "      <td>0.0</td>\n",
              "      <td>1.0</td>\n",
              "      <td>0.0</td>\n",
              "      <td>1.0</td>\n",
              "      <td>0.0</td>\n",
              "      <td>0.0</td>\n",
              "      <td>1.0</td>\n",
              "      <td>0.0</td>\n",
              "      <td>0.0</td>\n",
              "      <td>1.0</td>\n",
              "      <td>0.0</td>\n",
              "    </tr>\n",
              "    <tr>\n",
              "      <th>9</th>\n",
              "      <td>0.0</td>\n",
              "      <td>0.0</td>\n",
              "      <td>1.0</td>\n",
              "      <td>0.0</td>\n",
              "      <td>0.0</td>\n",
              "      <td>1.0</td>\n",
              "      <td>1.0</td>\n",
              "      <td>0.0</td>\n",
              "      <td>1.0</td>\n",
              "      <td>0.0</td>\n",
              "      <td>0.0</td>\n",
              "    </tr>\n",
              "    <tr>\n",
              "      <th>10</th>\n",
              "      <td>0.0</td>\n",
              "      <td>1.0</td>\n",
              "      <td>0.0</td>\n",
              "      <td>0.0</td>\n",
              "      <td>0.0</td>\n",
              "      <td>1.0</td>\n",
              "      <td>0.0</td>\n",
              "      <td>1.0</td>\n",
              "      <td>1.0</td>\n",
              "      <td>0.0</td>\n",
              "      <td>0.0</td>\n",
              "    </tr>\n",
              "    <tr>\n",
              "      <th>11</th>\n",
              "      <td>1.0</td>\n",
              "      <td>0.0</td>\n",
              "      <td>0.0</td>\n",
              "      <td>0.0</td>\n",
              "      <td>0.0</td>\n",
              "      <td>1.0</td>\n",
              "      <td>0.0</td>\n",
              "      <td>1.0</td>\n",
              "      <td>0.0</td>\n",
              "      <td>1.0</td>\n",
              "      <td>0.0</td>\n",
              "    </tr>\n",
              "    <tr>\n",
              "      <th>12</th>\n",
              "      <td>1.0</td>\n",
              "      <td>0.0</td>\n",
              "      <td>0.0</td>\n",
              "      <td>0.0</td>\n",
              "      <td>1.0</td>\n",
              "      <td>0.0</td>\n",
              "      <td>1.0</td>\n",
              "      <td>0.0</td>\n",
              "      <td>0.0</td>\n",
              "      <td>0.0</td>\n",
              "      <td>1.0</td>\n",
              "    </tr>\n",
              "    <tr>\n",
              "      <th>13</th>\n",
              "      <td>0.0</td>\n",
              "      <td>0.0</td>\n",
              "      <td>1.0</td>\n",
              "      <td>0.0</td>\n",
              "      <td>0.0</td>\n",
              "      <td>1.0</td>\n",
              "      <td>0.0</td>\n",
              "      <td>1.0</td>\n",
              "      <td>0.0</td>\n",
              "      <td>0.0</td>\n",
              "      <td>1.0</td>\n",
              "    </tr>\n",
              "  </tbody>\n",
              "</table>\n",
              "</div>"
            ],
            "text/plain": [
              "    Overcast  Rainy  Sunny  Cool  Hot  Mild  False  True  High  Low  Normal\n",
              "0        0.0    1.0    0.0   0.0  1.0   0.0    1.0   0.0   0.0  0.0     1.0\n",
              "1        0.0    1.0    0.0   0.0  1.0   0.0    0.0   1.0   1.0  0.0     0.0\n",
              "2        1.0    0.0    0.0   0.0  1.0   0.0    1.0   0.0   0.0  0.0     1.0\n",
              "3        0.0    0.0    1.0   0.0  0.0   1.0    1.0   0.0   0.0  0.0     1.0\n",
              "4        0.0    0.0    1.0   0.0  0.0   1.0    1.0   0.0   0.0  0.0     1.0\n",
              "5        0.0    0.0    1.0   0.0  0.0   1.0    0.0   1.0   0.0  1.0     0.0\n",
              "6        1.0    0.0    0.0   1.0  0.0   0.0    0.0   1.0   0.0  0.0     1.0\n",
              "7        0.0    1.0    0.0   1.0  0.0   0.0    1.0   0.0   0.0  0.0     1.0\n",
              "8        0.0    1.0    0.0   1.0  0.0   0.0    1.0   0.0   0.0  1.0     0.0\n",
              "9        0.0    0.0    1.0   0.0  0.0   1.0    1.0   0.0   1.0  0.0     0.0\n",
              "10       0.0    1.0    0.0   0.0  0.0   1.0    0.0   1.0   1.0  0.0     0.0\n",
              "11       1.0    0.0    0.0   0.0  0.0   1.0    0.0   1.0   0.0  1.0     0.0\n",
              "12       1.0    0.0    0.0   0.0  1.0   0.0    1.0   0.0   0.0  0.0     1.0\n",
              "13       0.0    0.0    1.0   0.0  0.0   1.0    0.0   1.0   0.0  0.0     1.0"
            ]
          },
          "execution_count": 5,
          "metadata": {},
          "output_type": "execute_result"
        }
      ]
    },
    {
      "cell_type": "code",
      "metadata": {
        "colab": {
          "background_save": true
        },
        "id": "5ed7wTl5xUQT"
      },
      "source": [
        "columns = {\n",
        "    'Outlook':['Overcast','Rainy','Sunny'],\n",
        "    'Temp': ['Cool','Hot','Mild'],\n",
        "    'Wind': ['False','True'],\n",
        "    'Humidity': ['High','Low','Normal']\n",
        "}\n",
        "for data_heading in data:\n",
        "  if data_heading!=\"Class\":\n",
        "    \n",
        "    ohe = preprocessing.OneHotEncoder()\n",
        "    feature = data[[data_heading]]\n",
        "    encoded = ohe.fit_transform(feature)\n",
        "    # Output will be of type <class 'scipy.sparse.csr.csr_matrix'>\n",
        "    encoded = encoded.toarray()\n",
        "    # Output will be of type <class 'numpy.ndarray'>\n",
        "    encoded=pd.DataFrame(encoded)\n",
        "    # Output will be of type <class 'pandas.core.frame.DataFrame'>\n",
        "    encoded.columns=columns[data_heading]\n",
        "    data = data.drop(data_heading,axis=1)\n",
        "    data = pd.concat([data,encoded],axis=1)\n",
        "\n",
        "    #------------ OR ------------\n",
        "    #outlook_encoded = pd.get_dummies(data['Outlook'])\n",
        "    #outlook_encoded.columns=['Overcast','Rainy','Sunny']\n",
        "    #print(\"Outlook:\\n\" ,outlook_encoded)\n",
        "    #print(type(outlook_encoded))\n",
        "\n",
        "  else:\n",
        "    le = preprocessing.LabelEncoder()\n",
        "    target = le.fit_transform(data[data_heading])\n",
        "    data = data.drop([data_heading],axis=1)"
      ],
      "execution_count": null,
      "outputs": []
    },
    {
      "cell_type": "code",
      "metadata": {
        "colab": {
          "base_uri": "https://localhost:8080/"
        },
        "id": "t2-u0BEJ1LqX",
        "outputId": "43281e5c-80f7-41f7-a406-90ec6d98a225"
      },
      "source": [
        "feature_names = np.array(data.columns[0:])\n",
        "print(feature_names)\n",
        "print(type(feature_names))"
      ],
      "execution_count": null,
      "outputs": [
        {
          "name": "stdout",
          "output_type": "stream",
          "text": [
            "['Overcast' 'Rainy' 'Sunny' 'Cool' 'Hot' 'Mild' 'False' 'True' 'High'\n",
            " 'Low' 'Normal']\n",
            "<class 'numpy.ndarray'>\n"
          ]
        }
      ]
    },
    {
      "cell_type": "code",
      "metadata": {
        "colab": {
          "base_uri": "https://localhost:8080/"
        },
        "id": "GyyuLunlza86",
        "outputId": "df302f7f-2ca1-4fef-c661-172bdbd4edd7"
      },
      "source": [
        "print(data.shape)\n",
        "print(target.shape)"
      ],
      "execution_count": null,
      "outputs": [
        {
          "name": "stdout",
          "output_type": "stream",
          "text": [
            "(14, 11)\n",
            "(14,)\n"
          ]
        }
      ]
    },
    {
      "cell_type": "code",
      "metadata": {
        "id": "KnHQhDCJFbgB"
      },
      "source": [
        "data"
      ],
      "execution_count": null,
      "outputs": []
    },
    {
      "cell_type": "code",
      "metadata": {
        "id": "BBSSLJkGzxO8"
      },
      "source": [
        "#split data set into train and test sets\n",
        "data_train, data_test, target_train, target_test = train_test_split(data, target, test_size = 0.75, random_state = 96)"
      ],
      "execution_count": null,
      "outputs": []
    },
    {
      "cell_type": "code",
      "metadata": {
        "colab": {
          "base_uri": "https://localhost:8080/"
        },
        "id": "-88A30wsz3-C",
        "outputId": "290cd74d-6884-414b-add1-5a8bd51f12ad"
      },
      "source": [
        "print(data_train.shape)\n",
        "print(data_test.shape)\n",
        "print(target_train.shape)\n",
        "print(target_test.shape)"
      ],
      "execution_count": null,
      "outputs": [
        {
          "name": "stdout",
          "output_type": "stream",
          "text": [
            "(3, 11)\n",
            "(11, 11)\n",
            "(3,)\n",
            "(11,)\n"
          ]
        }
      ]
    },
    {
      "cell_type": "code",
      "metadata": {
        "colab": {
          "base_uri": "https://localhost:8080/"
        },
        "id": "FkItjvX10FtS",
        "outputId": "4e518a78-452b-41b4-c658-31d4f38a70e8"
      },
      "source": [
        "gnb = GaussianNB()\n",
        "# Train the model\n",
        "gnb.fit(data_train, target_train)\n",
        "target_pred = gnb.predict(data_test)\n",
        "\n",
        "print(\"Accuracy:\\n\",metrics.accuracy_score(target_test, target_pred))\n",
        "\n",
        "confusion_matrix(target_test, target_pred)\n",
        "precision = precision_score(target_test, target_pred, average=None)\n",
        "recall = recall_score(target_test, target_pred, average=None)\n",
        "\n",
        "print(f\"precision :- {precision}\")\n",
        "print(f\"recall :- {recall}\")"
      ],
      "execution_count": null,
      "outputs": [
        {
          "name": "stdout",
          "output_type": "stream",
          "text": [
            "Accuracy:\n",
            " 0.6363636363636364\n",
            "precision :- [0.         0.63636364]\n",
            "recall :- [0. 1.]\n"
          ]
        },
        {
          "name": "stderr",
          "output_type": "stream",
          "text": [
            "/usr/local/lib/python3.7/dist-packages/sklearn/metrics/_classification.py:1272: UndefinedMetricWarning: Precision is ill-defined and being set to 0.0 in labels with no predicted samples. Use `zero_division` parameter to control this behavior.\n",
            "  _warn_prf(average, modifier, msg_start, len(result))\n"
          ]
        }
      ]
    },
    {
      "cell_type": "markdown",
      "metadata": {
        "id": "08_R6k6Y6Bwv"
      },
      "source": [
        "**Questions: For Task - 1**\n",
        "\n",
        "(1) What will be the value of Play, if Outlook is ’Rainy’, Temperature is ’Mild’, Humidity =’Normal’, and Wind = ’False’?\n",
        "\n",
        "(2) What will be the value of Play, if Outlook is ’Sunny’, Temeprature is ’Cool’, Humidity =’High’, and Wind = ’True’?\n",
        "\n",
        "(3) Accuracy , precision and recall of both Models?"
      ]
    },
    {
      "cell_type": "markdown",
      "metadata": {
        "id": "VrJyONNX6vbu"
      },
      "source": [
        "Here Features are ['Overcast' 'Rainy' 'Sunny' 'Cool' 'Hot' 'Mild' 'False' 'True' 'High'\n",
        " 'Low' 'Normal']"
      ]
    },
    {
      "cell_type": "code",
      "metadata": {
        "colab": {
          "base_uri": "https://localhost:8080/"
        },
        "id": "_vQIr7rv6Ca8",
        "outputId": "cf62674e-e740-41c0-b85d-cb65d7333a73"
      },
      "source": [
        "# Question-1\n",
        "# Outlook is ’Rainy’, Temperature is ’Mild’, Wind = ’False’ and Humidity =’Normal’\n",
        "output = gnb.predict([[0,1,0, 0,0,1  ,1,0 ,0,0,1]])\n",
        "print(f\"(1) Prediction :- {output}\")\n",
        "\n",
        "# Question-2\n",
        "# Outlook is ’Sunny’, Temeprature is ’Cool’, Humidity =’High’, and Wind = ’True’\n",
        "output = gnb.predict([[0,0,1, 1,0,0  ,0,1 ,1,0,0]])\n",
        "print(f\"(1) Prediction :- {output}\")\n"
      ],
      "execution_count": null,
      "outputs": [
        {
          "name": "stdout",
          "output_type": "stream",
          "text": [
            "(1) Prediction :- [1]\n",
            "(1) Prediction :- [1]\n"
          ]
        }
      ]
    }
  ]
}