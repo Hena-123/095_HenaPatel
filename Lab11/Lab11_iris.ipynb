{
  "nbformat": 4,
  "nbformat_minor": 0,
  "metadata": {
    "colab": {
      "name": "Lab11_iris.ipynb",
      "provenance": [],
      "collapsed_sections": [],
      "authorship_tag": "ABX9TyNnGeCHVxx/VnBRSrYz992M",
      "include_colab_link": true
    },
    "kernelspec": {
      "name": "python3",
      "display_name": "Python 3"
    },
    "language_info": {
      "name": "python"
    }
  },
  "cells": [
    {
      "cell_type": "markdown",
      "metadata": {
        "id": "view-in-github",
        "colab_type": "text"
      },
      "source": [
        "<a href=\"https://colab.research.google.com/github/Hena-123/095_HenaPatel/blob/main/Lab11/Lab11_iris.ipynb\" target=\"_parent\"><img src=\"https://colab.research.google.com/assets/colab-badge.svg\" alt=\"Open In Colab\"/></a>"
      ]
    },
    {
      "cell_type": "markdown",
      "metadata": {
        "id": "lepoRnAZnr84"
      },
      "source": [
        "**Hena Patel**\n",
        "\n",
        "---\n",
        "\n",
        "\n",
        "**(CE095-18CEUOS114)**"
      ]
    },
    {
      "cell_type": "markdown",
      "metadata": {
        "id": "p2r3fb0Yny8l"
      },
      "source": [
        "# **LAB-11**"
      ]
    },
    {
      "cell_type": "markdown",
      "metadata": {
        "id": "N1ag4_bcnr6D"
      },
      "source": [
        "**AIM: Perform SVM with PCA operations on Iris dataset.**"
      ]
    },
    {
      "cell_type": "code",
      "metadata": {
        "id": "fA7CPn7unpiu"
      },
      "source": [
        "import numpy as np\n",
        "import matplotlib.pyplot as plt\n",
        "import pandas as pd"
      ],
      "execution_count": 1,
      "outputs": []
    },
    {
      "cell_type": "code",
      "metadata": {
        "colab": {
          "base_uri": "https://localhost:8080/"
        },
        "id": "QibOHD4Jn8Q2",
        "outputId": "07724906-d8ef-4bee-af8b-5c97583e7b14"
      },
      "source": [
        "#load datasets\n",
        "from sklearn import datasets\n",
        "iris=datasets.load_iris()\n",
        "iris.target_names"
      ],
      "execution_count": 2,
      "outputs": [
        {
          "output_type": "execute_result",
          "data": {
            "text/plain": [
              "array(['setosa', 'versicolor', 'virginica'], dtype='<U10')"
            ]
          },
          "metadata": {},
          "execution_count": 2
        }
      ]
    },
    {
      "cell_type": "code",
      "metadata": {
        "colab": {
          "base_uri": "https://localhost:8080/"
        },
        "id": "49G6Yk45n8Ol",
        "outputId": "10fcef50-0e37-4c39-9c83-38189f9f6cb0"
      },
      "source": [
        "from sklearn.model_selection import train_test_split\n",
        "X_train, X_test, Y_train, Y_test = train_test_split(iris.data,iris.target, random_state=95,test_size=0.25)\n",
        "\n",
        "print(X_train.shape, X_test.shape)"
      ],
      "execution_count": 3,
      "outputs": [
        {
          "output_type": "stream",
          "name": "stdout",
          "text": [
            "(112, 4) (38, 4)\n"
          ]
        }
      ]
    },
    {
      "cell_type": "code",
      "metadata": {
        "colab": {
          "base_uri": "https://localhost:8080/"
        },
        "id": "S3sEgNkgn8MD",
        "outputId": "ccc7eee2-04a6-461e-e178-2207f5b17fd1"
      },
      "source": [
        "from sklearn import svm,decomposition\n",
        "pca=decomposition.PCA(n_components=2,whiten=True)\n",
        "pca.fit(X_train)"
      ],
      "execution_count": 4,
      "outputs": [
        {
          "output_type": "execute_result",
          "data": {
            "text/plain": [
              "PCA(copy=True, iterated_power='auto', n_components=2, random_state=None,\n",
              "    svd_solver='auto', tol=0.0, whiten=True)"
            ]
          },
          "metadata": {},
          "execution_count": 4
        }
      ]
    },
    {
      "cell_type": "code",
      "metadata": {
        "colab": {
          "base_uri": "https://localhost:8080/"
        },
        "id": "HxmTdoWAn8Hw",
        "outputId": "6cf7ec8f-6b7b-4ef0-ff53-27ca7cbea583"
      },
      "source": [
        "print(pca.components_.shape)"
      ],
      "execution_count": 5,
      "outputs": [
        {
          "output_type": "stream",
          "name": "stdout",
          "text": [
            "(2, 4)\n"
          ]
        }
      ]
    },
    {
      "cell_type": "code",
      "metadata": {
        "colab": {
          "base_uri": "https://localhost:8080/"
        },
        "id": "OWXTjBYhoDkK",
        "outputId": "50d4eaa7-6f46-4f92-84a7-e47bc5945915"
      },
      "source": [
        "#apply dimensionality reduction on X_train and X_test\n",
        "pca_X_train=pca.transform(X_train)\n",
        "pca_X_test=pca.transform(X_test)\n",
        "print(pca_X_train.shape)\n",
        "print(pca_X_test.shape)\n"
      ],
      "execution_count": 6,
      "outputs": [
        {
          "output_type": "stream",
          "name": "stdout",
          "text": [
            "(112, 2)\n",
            "(38, 2)\n"
          ]
        }
      ]
    },
    {
      "cell_type": "code",
      "metadata": {
        "colab": {
          "base_uri": "https://localhost:8080/"
        },
        "id": "PrXgbDDFoDgw",
        "outputId": "e90d11f4-4443-4299-c5cd-ac23fc1ada61"
      },
      "source": [
        "from sklearn import svm\n",
        "clf = svm.SVC(C=3.,gamma=0.005, random_state=95)\n",
        "clf.fit(pca_X_train, Y_train)"
      ],
      "execution_count": 8,
      "outputs": [
        {
          "output_type": "execute_result",
          "data": {
            "text/plain": [
              "SVC(C=3.0, break_ties=False, cache_size=200, class_weight=None, coef0=0.0,\n",
              "    decision_function_shape='ovr', degree=3, gamma=0.005, kernel='rbf',\n",
              "    max_iter=-1, probability=False, random_state=95, shrinking=True, tol=0.001,\n",
              "    verbose=False)"
            ]
          },
          "metadata": {},
          "execution_count": 8
        }
      ]
    },
    {
      "cell_type": "code",
      "metadata": {
        "colab": {
          "base_uri": "https://localhost:8080/"
        },
        "id": "-eeweZSWoDeI",
        "outputId": "982159c5-402a-4375-9f56-78a9a0edde57"
      },
      "source": [
        "y_pred=clf.predict(pca_X_test)\n",
        "print(y_pred)"
      ],
      "execution_count": 9,
      "outputs": [
        {
          "output_type": "stream",
          "name": "stdout",
          "text": [
            "[1 2 1 0 0 2 1 1 0 1 0 1 0 2 1 2 1 1 1 1 1 2 1 0 0 0 1 1 0 1 1 1 1 2 2 2 1\n",
            " 0]\n"
          ]
        }
      ]
    },
    {
      "cell_type": "code",
      "metadata": {
        "colab": {
          "base_uri": "https://localhost:8080/"
        },
        "id": "pxJCydftn8Fm",
        "outputId": "27c07f46-8a23-4e1d-8db5-d9cb872cbc99"
      },
      "source": [
        "from sklearn import metrics\n",
        "# Model Accuracy: how often is the classifier correct?\n",
        "print(\"Accuracy:\",metrics.accuracy_score(Y_test, y_pred))\n",
        "# Model Precision: what percentage of positive tuples are labeled as such?\n",
        "print(\"Precision:\",metrics.precision_score(Y_test, y_pred,average='weighted'))\n",
        "# Model Recall: what percentage of positive tuples are labelled as such?\n",
        "print(\"Recall:\",metrics.recall_score(Y_test, y_pred,average='weighted'))"
      ],
      "execution_count": 10,
      "outputs": [
        {
          "output_type": "stream",
          "name": "stdout",
          "text": [
            "Accuracy: 0.8157894736842105\n",
            "Precision: 0.880263157894737\n",
            "Recall: 0.8157894736842105\n"
          ]
        }
      ]
    },
    {
      "cell_type": "code",
      "metadata": {
        "colab": {
          "base_uri": "https://localhost:8080/"
        },
        "id": "3rziYbepn8DH",
        "outputId": "e4d7bb3b-d0f0-4378-cb9b-7ceed9c78e9c"
      },
      "source": [
        "print(metrics.classification_report(Y_test, y_pred))"
      ],
      "execution_count": 11,
      "outputs": [
        {
          "output_type": "stream",
          "name": "stdout",
          "text": [
            "              precision    recall  f1-score   support\n",
            "\n",
            "           0       1.00      1.00      1.00        10\n",
            "           1       0.65      1.00      0.79        13\n",
            "           2       1.00      0.53      0.70        15\n",
            "\n",
            "    accuracy                           0.82        38\n",
            "   macro avg       0.88      0.84      0.83        38\n",
            "weighted avg       0.88      0.82      0.81        38\n",
            "\n"
          ]
        }
      ]
    },
    {
      "cell_type": "code",
      "metadata": {
        "colab": {
          "base_uri": "https://localhost:8080/",
          "height": 241
        },
        "id": "bRxYkS__n8Aq",
        "outputId": "f8468157-63c5-44e2-b42d-820752aeae73"
      },
      "source": [
        "import seaborn as sb\n",
        "cf_mat=metrics.confusion_matrix(y_pred, Y_test)\n",
        "plt.subplots(figsize=(3, 3))\n",
        "sb.heatmap(cf_mat, annot = True, fmt = 'g')\n",
        "plt.xlabel(\"Predicted\")\n",
        "plt.ylabel(\"Actual\")\n",
        "plt.title(\"Confusion Matrix\")\n",
        "plt.show()"
      ],
      "execution_count": 12,
      "outputs": [
        {
          "output_type": "display_data",
          "data": {
            "image/png": "[encoded data removed]",
            "text/plain": [
              "<Figure size 216x216 with 2 Axes>"
            ]
          },
          "metadata": {
            "needs_background": "light"
          }
        }
      ]
    }
  ]
}