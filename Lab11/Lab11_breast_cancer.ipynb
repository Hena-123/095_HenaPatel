{
  "nbformat": 4,
  "nbformat_minor": 0,
  "metadata": {
    "colab": {
      "name": "Lab11_breast_cancer.ipynb",
      "provenance": [],
      "collapsed_sections": [],
      "authorship_tag": "ABX9TyNXN37ahMAG5TcXcStPUIYt",
      "include_colab_link": true
    },
    "kernelspec": {
      "name": "python3",
      "display_name": "Python 3"
    },
    "language_info": {
      "name": "python"
    }
  },
  "cells": [
    {
      "cell_type": "markdown",
      "metadata": {
        "id": "view-in-github",
        "colab_type": "text"
      },
      "source": [
        "<a href=\"https://colab.research.google.com/github/Hena-123/095_HenaPatel/blob/main/Lab11/Lab11_breast_cancer.ipynb\" target=\"_parent\"><img src=\"https://colab.research.google.com/assets/colab-badge.svg\" alt=\"Open In Colab\"/></a>"
      ]
    },
    {
      "cell_type": "markdown",
      "metadata": {
        "id": "OxoTCLuqmnIw"
      },
      "source": [
        "**Hena Patel**\n",
        "\n",
        "---\n",
        "\n",
        "\n",
        "**(CE095-18CEUOS114)**"
      ]
    },
    {
      "cell_type": "markdown",
      "metadata": {
        "id": "nOg5k0p8mnFf"
      },
      "source": [
        "# **LAB-11**"
      ]
    },
    {
      "cell_type": "markdown",
      "metadata": {
        "id": "CLLyEJctmtHz"
      },
      "source": [
        "**AIM: Perform SVM with PCA operations on Breast Cancer dataset.**"
      ]
    },
    {
      "cell_type": "code",
      "metadata": {
        "id": "NE9FgtN9mlul"
      },
      "source": [
        "import numpy as np\n",
        "import matplotlib.pyplot as plt\n",
        "import pandas as pd"
      ],
      "execution_count": 1,
      "outputs": []
    },
    {
      "cell_type": "code",
      "metadata": {
        "colab": {
          "base_uri": "https://localhost:8080/"
        },
        "id": "ujMf3pOImyc8",
        "outputId": "27d6caf0-8f3b-44c5-a640-36c845b89724"
      },
      "source": [
        "#load datasets\n",
        "from sklearn import datasets\n",
        "bcancer=datasets.load_breast_cancer()\n",
        "bcancer.target_names"
      ],
      "execution_count": 2,
      "outputs": [
        {
          "output_type": "execute_result",
          "data": {
            "text/plain": [
              "array(['malignant', 'benign'], dtype='<U9')"
            ]
          },
          "metadata": {},
          "execution_count": 2
        }
      ]
    },
    {
      "cell_type": "code",
      "metadata": {
        "colab": {
          "base_uri": "https://localhost:8080/"
        },
        "id": "WETtSMiDmyak",
        "outputId": "fd951c34-7566-415f-f2e4-d03ce3e70c32"
      },
      "source": [
        "from sklearn.model_selection import train_test_split\n",
        "X_train, X_test, Y_train, Y_test = train_test_split(bcancer.data,bcancer.target, random_state=95,test_size=0.3)\n",
        "\n",
        "print(X_train.shape, X_test.shape)"
      ],
      "execution_count": 5,
      "outputs": [
        {
          "output_type": "stream",
          "name": "stdout",
          "text": [
            "(398, 30) (171, 30)\n"
          ]
        }
      ]
    },
    {
      "cell_type": "code",
      "metadata": {
        "colab": {
          "base_uri": "https://localhost:8080/"
        },
        "id": "1T-yUFu3myYI",
        "outputId": "5de038b9-8963-4857-cb07-94ddada50200"
      },
      "source": [
        "from sklearn import svm,decomposition\n",
        "pca=decomposition.PCA(n_components=15,whiten=True)\n",
        "pca.fit(X_train)"
      ],
      "execution_count": 6,
      "outputs": [
        {
          "output_type": "execute_result",
          "data": {
            "text/plain": [
              "PCA(copy=True, iterated_power='auto', n_components=15, random_state=None,\n",
              "    svd_solver='auto', tol=0.0, whiten=True)"
            ]
          },
          "metadata": {},
          "execution_count": 6
        }
      ]
    },
    {
      "cell_type": "code",
      "metadata": {
        "colab": {
          "base_uri": "https://localhost:8080/"
        },
        "id": "oJkRlQeFmyVy",
        "outputId": "2266dba7-20b4-4320-8f56-be01b190fc69"
      },
      "source": [
        "print(pca.components_.shape)"
      ],
      "execution_count": 7,
      "outputs": [
        {
          "output_type": "stream",
          "name": "stdout",
          "text": [
            "(15, 30)\n"
          ]
        }
      ]
    },
    {
      "cell_type": "code",
      "metadata": {
        "colab": {
          "base_uri": "https://localhost:8080/"
        },
        "id": "Fev4fkRGmyTW",
        "outputId": "5fc89c2f-09d3-4e8a-a5dc-f72865296010"
      },
      "source": [
        "#apply dimensionality reduction on X_train and X_test\n",
        "pca_X_train=pca.transform(X_train)\n",
        "pca_X_test=pca.transform(X_test)\n",
        "print(pca_X_train.shape)\n",
        "print(pca_X_test.shape)"
      ],
      "execution_count": 8,
      "outputs": [
        {
          "output_type": "stream",
          "name": "stdout",
          "text": [
            "(398, 15)\n",
            "(171, 15)\n"
          ]
        }
      ]
    },
    {
      "cell_type": "code",
      "metadata": {
        "colab": {
          "base_uri": "https://localhost:8080/"
        },
        "id": "Boy7hag2myQ2",
        "outputId": "c8492d28-6c95-4631-bf8b-69968520ec7a"
      },
      "source": [
        "from sklearn import svm\n",
        "clf = svm.SVC(C=3.,gamma=0.005, random_state=95)\n",
        "clf.fit(pca_X_train, Y_train)"
      ],
      "execution_count": 9,
      "outputs": [
        {
          "output_type": "execute_result",
          "data": {
            "text/plain": [
              "SVC(C=3.0, break_ties=False, cache_size=200, class_weight=None, coef0=0.0,\n",
              "    decision_function_shape='ovr', degree=3, gamma=0.005, kernel='rbf',\n",
              "    max_iter=-1, probability=False, random_state=95, shrinking=True, tol=0.001,\n",
              "    verbose=False)"
            ]
          },
          "metadata": {},
          "execution_count": 9
        }
      ]
    },
    {
      "cell_type": "code",
      "metadata": {
        "colab": {
          "base_uri": "https://localhost:8080/"
        },
        "id": "4UUIR-TCm8GZ",
        "outputId": "fcadc8e8-efe7-4275-b32f-65cbd61efad5"
      },
      "source": [
        "y_pred=clf.predict(pca_X_test)\n",
        "print(y_pred)"
      ],
      "execution_count": 10,
      "outputs": [
        {
          "output_type": "stream",
          "name": "stdout",
          "text": [
            "[1 1 1 0 1 0 1 0 0 0 0 1 1 0 0 1 1 1 1 1 1 1 1 1 1 1 1 1 1 0 1 0 1 1 1 0 1\n",
            " 1 1 0 1 1 1 1 1 1 1 1 0 1 0 0 1 1 0 0 1 1 1 1 0 1 1 1 1 1 0 1 1 1 1 1 1 1\n",
            " 1 1 1 1 0 1 1 0 1 1 0 1 1 0 1 1 0 1 0 0 1 0 1 0 1 1 1 1 0 0 1 1 0 1 1 0 0\n",
            " 0 1 1 1 1 1 1 1 1 1 1 1 0 0 1 0 1 1 1 1 0 1 0 1 1 1 1 1 1 1 1 1 0 1 1 1 0\n",
            " 0 1 0 1 0 1 0 0 1 1 0 0 1 1 0 1 1 1 1 1 1 0 1]\n"
          ]
        }
      ]
    },
    {
      "cell_type": "code",
      "metadata": {
        "colab": {
          "base_uri": "https://localhost:8080/"
        },
        "id": "6Xl_LVKdm8EN",
        "outputId": "237a3eff-aa4c-40e1-a004-0b88af2ef6dd"
      },
      "source": [
        "from sklearn import metrics\n",
        "# Model Accuracy: how often is the classifier correct?\n",
        "print(\"Accuracy:\",metrics.accuracy_score(Y_test, y_pred))\n",
        "# Model Precision: what percentage of positive tuples are labeled as such?\n",
        "print(\"Precision:\",metrics.precision_score(Y_test, y_pred,average='weighted'))\n",
        "# Model Recall: what percentage of positive tuples are labelled as such?\n",
        "print(\"Recall:\",metrics.recall_score(Y_test, y_pred,average='weighted'))"
      ],
      "execution_count": 11,
      "outputs": [
        {
          "output_type": "stream",
          "name": "stdout",
          "text": [
            "Accuracy: 0.9473684210526315\n",
            "Precision: 0.9492561983471074\n",
            "Recall: 0.9473684210526315\n"
          ]
        }
      ]
    },
    {
      "cell_type": "code",
      "metadata": {
        "colab": {
          "base_uri": "https://localhost:8080/"
        },
        "id": "Qi3-nZ4tm8CA",
        "outputId": "c707623e-0e2d-49cb-fd5f-9346a4ffd69a"
      },
      "source": [
        "print(metrics.classification_report(Y_test, y_pred))"
      ],
      "execution_count": 12,
      "outputs": [
        {
          "output_type": "stream",
          "name": "stdout",
          "text": [
            "              precision    recall  f1-score   support\n",
            "\n",
            "           0       0.98      0.86      0.92        57\n",
            "           1       0.93      0.99      0.96       114\n",
            "\n",
            "    accuracy                           0.95       171\n",
            "   macro avg       0.96      0.93      0.94       171\n",
            "weighted avg       0.95      0.95      0.95       171\n",
            "\n"
          ]
        }
      ]
    },
    {
      "cell_type": "code",
      "metadata": {
        "colab": {
          "base_uri": "https://localhost:8080/",
          "height": 295
        },
        "id": "VKH5A84em7_h",
        "outputId": "3ebacd63-c454-46af-8f0b-5b8c34e18334"
      },
      "source": [
        "import seaborn as sb\n",
        "cf_mat=metrics.confusion_matrix(y_pred, Y_test)\n",
        "plt.subplots(figsize=(4,4))\n",
        "sb.heatmap(cf_mat, annot = True, fmt = 'g')\n",
        "plt.xlabel(\"Predicted\")\n",
        "plt.ylabel(\"Actual\")\n",
        "plt.title(\"Confusion Matrix\")\n",
        "plt.show()"
      ],
      "execution_count": 13,
      "outputs": [
        {
          "output_type": "display_data",
          "data": {
            "image/png": "[encoded data removed]",
            "text/plain": [
              "<Figure size 288x288 with 2 Axes>"
            ]
          },
          "metadata": {
            "needs_background": "light"
          }
        }
      ]
    }
  ]
}