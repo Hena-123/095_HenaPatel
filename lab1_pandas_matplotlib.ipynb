{
  "nbformat": 4,
  "nbformat_minor": 0,
  "metadata": {
    "colab": {
      "name": "lab1_pandas_matplotlib.ipynb",
      "provenance": [],
      "collapsed_sections": [],
      "authorship_tag": "ABX9TyMalNLbK9Gy4+VEhqYqDfin",
      "include_colab_link": true
    },
    "kernelspec": {
      "name": "python3",
      "display_name": "Python 3"
    },
    "language_info": {
      "name": "python"
    }
  },
  "cells": [
    {
      "cell_type": "markdown",
      "metadata": {
        "id": "view-in-github",
        "colab_type": "text"
      },
      "source": [
        "<a href=\"https://colab.research.google.com/github/Hena-123/095_HenaPatel/blob/main/lab1_pandas_matplotlib.ipynb\" target=\"_parent\"><img src=\"https://colab.research.google.com/assets/colab-badge.svg\" alt=\"Open In Colab\"/></a>"
      ]
    },
    {
      "cell_type": "code",
      "metadata": {
        "id": "a3iobjtK64My"
      },
      "source": [
        "import numpy as np\n",
        "import pandas as pd\n",
        "import matplotlib.pyplot as plt"
      ],
      "execution_count": null,
      "outputs": []
    },
    {
      "cell_type": "code",
      "metadata": {
        "id": "9mrBYzs-7fNa"
      },
      "source": [
        "data=pd.read_csv('./Data_for_Transformation.csv')"
      ],
      "execution_count": null,
      "outputs": []
    },
    {
      "cell_type": "markdown",
      "metadata": {
        "id": "rwTPafEYDyAO"
      },
      "source": [
        "**1) Draw Scatter Plot between age and salary for \"Data_for_Transformation.csv\" file**"
      ]
    },
    {
      "cell_type": "code",
      "metadata": {
        "colab": {
          "base_uri": "https://localhost:8080/",
          "height": 279
        },
        "id": "OOFfHsN28Mu5",
        "outputId": "909279e3-76af-4b2b-ab8f-5ff692a7bb3b"
      },
      "source": [
        "plt.scatter(data['Age'],data['Salary'],edgecolors='red',c='yellow')\n",
        "plt.xlabel('Age values')\n",
        "plt.ylabel('Salary values')\n",
        "plt.show()"
      ],
      "execution_count": null,
      "outputs": [
        {
          "output_type": "display_data",
          "data": {
            "image/png": "[encoded data removed]",
            "text/plain": [
              "<Figure size 432x288 with 1 Axes>"
            ]
          },
          "metadata": {
            "needs_background": "light"
          }
        }
      ]
    },
    {
      "cell_type": "markdown",
      "metadata": {
        "id": "-4uoX_K6EGIE"
      },
      "source": [
        "**2) Draw Histogram of Salary**"
      ]
    },
    {
      "cell_type": "code",
      "metadata": {
        "colab": {
          "base_uri": "https://localhost:8080/",
          "height": 279
        },
        "id": "hkU9_9i18ero",
        "outputId": "60d75279-69be-41a1-f409-edea1c83db65"
      },
      "source": [
        "plt.hist(data['Salary'],histtype ='bar',color ='green',label ='green')\n",
        "plt.xlabel('Distinct salary values')\n",
        "plt.ylabel('Frequency of each salary')\n",
        "plt.show()"
      ],
      "execution_count": null,
      "outputs": [
        {
          "output_type": "display_data",
          "data": {
            "image/png": "[encoded data removed]",
            "text/plain": [
              "<Figure size 432x288 with 1 Axes>"
            ]
          },
          "metadata": {
            "needs_background": "light"
          }
        }
      ]
    },
    {
      "cell_type": "markdown",
      "metadata": {
        "id": "CD4tE6FNEKVV"
      },
      "source": [
        "**3) Plot bar chart of Country**"
      ]
    },
    {
      "cell_type": "code",
      "metadata": {
        "id": "PFQ2Ei118u2G"
      },
      "source": [
        "df = pd.DataFrame(data,columns=['Country'])\n",
        "unique_values = data['Country'].unique()\n",
        "unique_values_count = data['Country'].value_counts()"
      ],
      "execution_count": null,
      "outputs": []
    },
    {
      "cell_type": "code",
      "metadata": {
        "colab": {
          "base_uri": "https://localhost:8080/"
        },
        "id": "nvHrE2fiETve",
        "outputId": "cb9bbf3e-a804-4172-9eaf-dbab379fe2b6"
      },
      "source": [
        "print(unique_values)"
      ],
      "execution_count": null,
      "outputs": [
        {
          "output_type": "stream",
          "text": [
            "['France' 'Spain' 'Germany']\n"
          ],
          "name": "stdout"
        }
      ]
    },
    {
      "cell_type": "code",
      "metadata": {
        "colab": {
          "base_uri": "https://localhost:8080/"
        },
        "id": "U3LcDXz9DM3V",
        "outputId": "188b058f-475e-45e8-a88a-04ed80e944b3"
      },
      "source": [
        "print(unique_values_count)"
      ],
      "execution_count": null,
      "outputs": [
        {
          "output_type": "stream",
          "text": [
            "Spain      4\n",
            "France     4\n",
            "Germany    3\n",
            "Name: Country, dtype: int64\n"
          ],
          "name": "stdout"
        }
      ]
    },
    {
      "cell_type": "code",
      "metadata": {
        "colab": {
          "base_uri": "https://localhost:8080/",
          "height": 265
        },
        "id": "CtYF6StkBG1Q",
        "outputId": "2e684e21-fd7b-484b-99c2-af56f625b9fc"
      },
      "source": [
        "plt.bar(unique_values,unique_values_count,color='orange',width=0.4)\n",
        "plt.show()"
      ],
      "execution_count": null,
      "outputs": [
        {
          "output_type": "display_data",
          "data": {
            "image/png": "[encoded data removed]",
            "text/plain": [
              "<Figure size 432x288 with 1 Axes>"
            ]
          },
          "metadata": {
            "needs_background": "light"
          }
        }
      ]
    },
    {
      "cell_type": "code",
      "metadata": {
        "id": "-caPZNYvFMwl"
      },
      "source": [
        ""
      ],
      "execution_count": null,
      "outputs": []
    }
  ]
}