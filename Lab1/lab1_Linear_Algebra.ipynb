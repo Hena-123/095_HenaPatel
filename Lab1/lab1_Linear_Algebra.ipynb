{
  "nbformat": 4,
  "nbformat_minor": 0,
  "metadata": {
    "colab": {
      "name": "lab1_Linear_Algebra.ipynb",
      "provenance": [],
      "collapsed_sections": [],
      "authorship_tag": "ABX9TyMdfJU9oja/7WpjMsjXg3PV",
      "include_colab_link": true
    },
    "kernelspec": {
      "name": "python3",
      "display_name": "Python 3"
    },
    "language_info": {
      "name": "python"
    }
  },
  "cells": [
    {
      "cell_type": "markdown",
      "metadata": {
        "id": "view-in-github",
        "colab_type": "text"
      },
      "source": [
        "<a href=\"https://colab.research.google.com/github/Hena-123/095_HenaPatel/blob/main/lab1_Linear_Algebra.ipynb\" target=\"_parent\"><img src=\"https://colab.research.google.com/assets/colab-badge.svg\" alt=\"Open In Colab\"/></a>"
      ]
    },
    {
      "cell_type": "code",
      "metadata": {
        "id": "sS8b9PRFM-dm"
      },
      "source": [
        "#from nltk.corpus import twitter_samples # sample Twitter dataset from NLTK\n",
        "import matplotlib.pyplot as plt # library for visualization\n",
        "import random"
      ],
      "execution_count": null,
      "outputs": []
    },
    {
      "cell_type": "code",
      "metadata": {
        "id": "mHwuAlzhUZ8z"
      },
      "source": [
        "import archive"
      ],
      "execution_count": null,
      "outputs": []
    },
    {
      "cell_type": "code",
      "metadata": {
        "colab": {
          "base_uri": "https://localhost:8080/"
        },
        "id": "8C_1FkXxNjhB",
        "outputId": "42bc3c79-88e0-4010-f8c5-1fd9726399bf"
      },
      "source": [
        "#downloads sample twitter dataset.\n",
        "# nltk.download('twitter_samples')"
      ],
      "execution_count": null,
      "outputs": [
        {
          "output_type": "stream",
          "text": [
            "[nltk_data] Downloading package twitter_samples to /root/nltk_data...\n",
            "[nltk_data]   Unzipping corpora/twitter_samples.zip.\n"
          ],
          "name": "stdout"
        },
        {
          "output_type": "execute_result",
          "data": {
            "text/plain": [
              "True"
            ]
          },
          "metadata": {},
          "execution_count": 2
        }
      ]
    },
    {
      "cell_type": "code",
      "metadata": {
        "id": "R9fPI9LSXK4Y"
      },
      "source": [
        "import json\n",
        "import os"
      ],
      "execution_count": null,
      "outputs": []
    },
    {
      "cell_type": "code",
      "metadata": {
        "id": "XU5H9u-lNjkO"
      },
      "source": [
        "# select the set of positive and negative tweets)\n",
        "json_file = open(\"./archive/Musical_Instruments_5.json\")\n",
        "data = json.loads(\"[\" + json_file.read().replace(\"}\\n{\", \"},\\n{\") + \"]\")\n",
        "json_file.close()"
      ],
      "execution_count": null,
      "outputs": []
    },
    {
      "cell_type": "code",
      "metadata": {
        "id": "qaPrupf9bNCt"
      },
      "source": [
        "review_text = []\n",
        "for each in data:\n",
        "  review_text.append(each['reviewText'])"
      ],
      "execution_count": null,
      "outputs": []
    },
    {
      "cell_type": "code",
      "metadata": {
        "colab": {
          "base_uri": "https://localhost:8080/"
        },
        "id": "B3ibHr0MNjnW",
        "outputId": "ae8425e3-3bf3-426e-d831-493f61a7a4d5"
      },
      "source": [
        "print('Number of review text: ', len(review_text))\n",
        "print('\\nThe type of review text is: ', type(review_text))\n",
        "print('The type of a tweet entry is: ', type(review_text[0]))"
      ],
      "execution_count": null,
      "outputs": [
        {
          "output_type": "stream",
          "text": [
            "Number of review text:  10261\n",
            "\n",
            "The type of review text is:  <class 'list'>\n",
            "The type of a tweet entry is:  <class 'str'>\n"
          ],
          "name": "stdout"
        }
      ]
    },
    {
      "cell_type": "code",
      "metadata": {
        "id": "jCTAw8fMdIqm"
      },
      "source": [
        "all_length_less_than_250 = []\n",
        "all_length_greater_than_250 = []\n",
        "for each in data:\n",
        "  if len(each['reviewText']) <= 250:\n",
        "    all_length_less_than_250.append(each['reviewText'])\n",
        "  else:\n",
        "    all_length_greater_than_250.append(each['reviewText'])"
      ],
      "execution_count": null,
      "outputs": []
    },
    {
      "cell_type": "code",
      "metadata": {
        "colab": {
          "base_uri": "https://localhost:8080/",
          "height": 319
        },
        "id": "H9xh1JcFNjtG",
        "outputId": "2c819ef4-e029-40db-a941-5b8f17a2ef88"
      },
      "source": [
        "# Declare a figure with a custom size\n",
        "fig = plt.figure(figsize=(5, 5))\n",
        "plt.title('Length of review Text')\n",
        "# labels for the two classes\n",
        "labels = 'length_less_than_250', 'length_greater_than_250'\n",
        "# Sizes for each slide\n",
        "sizes = [len(all_length_less_than_250), len(all_length_greater_than_250)]\n",
        "# Declare pie chart, where the slices will be ordered and plotted counter-clockwise:\n",
        "plt.pie(sizes, labels=labels, autopct='%1.1f%%',shadow=True, startangle=90)\n",
        "# Equal aspect ratio ensures that pie is drawn as a circle.\n",
        "plt.axis('equal')\n",
        "# Display the chart\n",
        "plt.show()"
      ],
      "execution_count": null,
      "outputs": [
        {
          "output_type": "display_data",
          "data": {
            "image/png": "[encoded data removed]",
            "text/plain": [
              "<Figure size 360x360 with 1 Axes>"
            ]
          },
          "metadata": {}
        }
      ]
    },
    {
      "cell_type": "code",
      "metadata": {
        "colab": {
          "base_uri": "https://localhost:8080/"
        },
        "id": "B9tHHEo6N0pB",
        "outputId": "2cf5fa1e-b24e-4270-d779-d87e0287e5b7"
      },
      "source": [
        "import nltk # Python library for NLP\n",
        "# download the stopwords from NLTK\n",
        "nltk.download('stopwords')"
      ],
      "execution_count": null,
      "outputs": [
        {
          "output_type": "stream",
          "text": [
            "[nltk_data] Downloading package stopwords to /root/nltk_data...\n",
            "[nltk_data]   Unzipping corpora/stopwords.zip.\n"
          ],
          "name": "stdout"
        },
        {
          "output_type": "execute_result",
          "data": {
            "text/plain": [
              "True"
            ]
          },
          "metadata": {},
          "execution_count": 13
        }
      ]
    },
    {
      "cell_type": "code",
      "metadata": {
        "id": "FkpKolCSN0rz"
      },
      "source": [
        "import re # library for regular expression operations\n",
        "import string # for string operations\n",
        "from nltk.corpus import stopwords # module for stop words that come with NLTK\n",
        "from nltk.stem import PorterStemmer # module for stemming\n",
        "from nltk.tokenize import TweetTokenizer # module for tokenizing strings"
      ],
      "execution_count": null,
      "outputs": []
    },
    {
      "cell_type": "code",
      "metadata": {
        "colab": {
          "base_uri": "https://localhost:8080/"
        },
        "id": "czdmfm_EN0uW",
        "outputId": "048d3873-644e-4bd4-9fa4-04bafaf2f3ad"
      },
      "source": [
        "# Our selected sample\n",
        "sample_review = review_text[5076]\n",
        "print('\\033[92m' + sample_review)\n",
        "print('\\033[94m')\n",
        "# remove hyperlinks\n",
        "sample_review = re.sub(r'https?:\\/\\/.*[\\r\\n]*', '', sample_review)\n",
        "# remove hashtags\n",
        "# only removing the hash # sign from the word\n",
        "sample_review = re.sub(r'#', '', sample_review)\n",
        "print(sample_review)"
      ],
      "execution_count": null,
      "outputs": [
        {
          "output_type": "stream",
          "text": [
            "I have this paired with the Behringer C-1 Studio Condenser Microphone.  It matches the mic well color-wise and fit. The C-1 fits the mount perfectly. I recommend this mount highly.http://www.amazon.com/Behringer-C-1-Studio-Condenser-Microphone/dp/B000CZ0RLK/ref=sr_1_1?ie=UTF8&qid;=1358133926&sr;=8-1&keywords;=Behringer+C-1\n",
            "\u001b[92mI have this paired with the Behringer C-1 Studio Condenser Microphone.  It matches the mic well color-wise and fit. The C-1 fits the mount perfectly. I recommend this mount highly.http://www.amazon.com/Behringer-C-1-Studio-Condenser-Microphone/dp/B000CZ0RLK/ref=sr_1_1?ie=UTF8&qid;=1358133926&sr;=8-1&keywords;=Behringer+C-1\n",
            "\u001b[94m\n",
            "180\n",
            "I have this paired with the Behringer C-1 Studio Condenser Microphone.  It matches the mic well color-wise and fit. The C-1 fits the mount perfectly. I recommend this mount highly.\n",
            "180\n"
          ],
          "name": "stdout"
        }
      ]
    },
    {
      "cell_type": "code",
      "metadata": {
        "colab": {
          "base_uri": "https://localhost:8080/"
        },
        "id": "yeASFgSXN0xA",
        "outputId": "2f0a772f-b519-49dd-b04e-e519f67f9f8e"
      },
      "source": [
        "print()\n",
        "print('\\033[92m' + sample_review)\n",
        "print('\\033[94m')\n",
        "# instantiate tokenizer class\n",
        "tokenizer = TweetTokenizer(preserve_case=False)\n",
        "# tokenize tweets\n",
        "sample_review_tokens = tokenizer.tokenize(sample_review)\n",
        "print()\n",
        "print('Tokenized string:')\n",
        "print(sample_review_tokens)"
      ],
      "execution_count": null,
      "outputs": [
        {
          "output_type": "stream",
          "text": [
            "\n",
            "\u001b[92mI have this paired with the Behringer C-1 Studio Condenser Microphone.  It matches the mic well color-wise and fit. The C-1 fits the mount perfectly. I recommend this mount highly.\n",
            "\u001b[94m\n",
            "\n",
            "Tokenized string:\n",
            "['i', 'have', 'this', 'paired', 'with', 'the', 'behringer', 'c', '-', '1', 'studio', 'condenser', 'microphone', '.', 'it', 'matches', 'the', 'mic', 'well', 'color-wise', 'and', 'fit', '.', 'the', 'c', '-', '1', 'fits', 'the', 'mount', 'perfectly', '.', 'i', 'recommend', 'this', 'mount', 'highly', '.']\n"
          ],
          "name": "stdout"
        }
      ]
    },
    {
      "cell_type": "code",
      "metadata": {
        "colab": {
          "base_uri": "https://localhost:8080/"
        },
        "id": "1f1bOz1NNj0p",
        "outputId": "9f4db43c-7da6-4174-e8d0-f9e4256a16a4"
      },
      "source": [
        "#Import the english stop words list from NLTK\n",
        "stopwords_english = stopwords.words('english')\n",
        "print('Stop words\\n')\n",
        "print(stopwords_english)\n",
        "print('\\nPunctuation\\n')\n",
        "print(string.punctuation)"
      ],
      "execution_count": null,
      "outputs": [
        {
          "output_type": "stream",
          "text": [
            "Stop words\n",
            "\n",
            "['i', 'me', 'my', 'myself', 'we', 'our', 'ours', 'ourselves', 'you', \"you're\", \"you've\", \"you'll\", \"you'd\", 'your', 'yours', 'yourself', 'yourselves', 'he', 'him', 'his', 'himself', 'she', \"she's\", 'her', 'hers', 'herself', 'it', \"it's\", 'its', 'itself', 'they', 'them', 'their', 'theirs', 'themselves', 'what', 'which', 'who', 'whom', 'this', 'that', \"that'll\", 'these', 'those', 'am', 'is', 'are', 'was', 'were', 'be', 'been', 'being', 'have', 'has', 'had', 'having', 'do', 'does', 'did', 'doing', 'a', 'an', 'the', 'and', 'but', 'if', 'or', 'because', 'as', 'until', 'while', 'of', 'at', 'by', 'for', 'with', 'about', 'against', 'between', 'into', 'through', 'during', 'before', 'after', 'above', 'below', 'to', 'from', 'up', 'down', 'in', 'out', 'on', 'off', 'over', 'under', 'again', 'further', 'then', 'once', 'here', 'there', 'when', 'where', 'why', 'how', 'all', 'any', 'both', 'each', 'few', 'more', 'most', 'other', 'some', 'such', 'no', 'nor', 'not', 'only', 'own', 'same', 'so', 'than', 'too', 'very', 's', 't', 'can', 'will', 'just', 'don', \"don't\", 'should', \"should've\", 'now', 'd', 'll', 'm', 'o', 're', 've', 'y', 'ain', 'aren', \"aren't\", 'couldn', \"couldn't\", 'didn', \"didn't\", 'doesn', \"doesn't\", 'hadn', \"hadn't\", 'hasn', \"hasn't\", 'haven', \"haven't\", 'isn', \"isn't\", 'ma', 'mightn', \"mightn't\", 'mustn', \"mustn't\", 'needn', \"needn't\", 'shan', \"shan't\", 'shouldn', \"shouldn't\", 'wasn', \"wasn't\", 'weren', \"weren't\", 'won', \"won't\", 'wouldn', \"wouldn't\"]\n",
            "\n",
            "Punctuation\n",
            "\n",
            "!\"#$%&'()*+,-./:;<=>?@[\\]^_`{|}~\n"
          ],
          "name": "stdout"
        }
      ]
    },
    {
      "cell_type": "code",
      "metadata": {
        "colab": {
          "base_uri": "https://localhost:8080/"
        },
        "id": "1ij5IAy8Nj27",
        "outputId": "918b1fef-5567-45b2-8be7-69198bc84fdc"
      },
      "source": [
        "print()\n",
        "print('\\033[92m')\n",
        "print(sample_review_tokens)\n",
        "print('\\033[94m')\n",
        "sample_review_clean = []\n",
        "for word in sample_review_tokens: # Go through every word in your tokens list\n",
        "  if (word not in stopwords_english and # remove stopwords\n",
        "      word not in string.punctuation): # remove punctuation\n",
        "        sample_review_clean.append(word)\n",
        "print('removed stop words and punctuation:')\n",
        "print(sample_review_clean) "
      ],
      "execution_count": null,
      "outputs": [
        {
          "output_type": "stream",
          "text": [
            "\n",
            "\u001b[92m\n",
            "['i', 'have', 'this', 'paired', 'with', 'the', 'behringer', 'c', '-', '1', 'studio', 'condenser', 'microphone', '.', 'it', 'matches', 'the', 'mic', 'well', 'color-wise', 'and', 'fit', '.', 'the', 'c', '-', '1', 'fits', 'the', 'mount', 'perfectly', '.', 'i', 'recommend', 'this', 'mount', 'highly', '.']\n",
            "\u001b[94m\n",
            "removed stop words and punctuation:\n",
            "['paired', 'behringer', 'c', '1', 'studio', 'condenser', 'microphone', 'matches', 'mic', 'well', 'color-wise', 'fit', 'c', '1', 'fits', 'mount', 'perfectly', 'recommend', 'mount', 'highly']\n"
          ],
          "name": "stdout"
        }
      ]
    },
    {
      "cell_type": "markdown",
      "metadata": {
        "id": "Ig7LzZSjQg7A"
      },
      "source": [
        "## Stemming\n",
        "Stemming is the process of converting a word to its most general form, or stem. This helps in reducing the size\n",
        "of our vocabulary."
      ]
    },
    {
      "cell_type": "code",
      "metadata": {
        "colab": {
          "base_uri": "https://localhost:8080/"
        },
        "id": "rfHb_sccNkJf",
        "outputId": "fa36ee40-a61e-4f54-f006-2919db99b980"
      },
      "source": [
        "print()\n",
        "print('\\033[92m')\n",
        "print(sample_review_clean)\n",
        "print('\\033[94m')\n",
        "# Instantiate stemming class\n",
        "stemmer = PorterStemmer()\n",
        "# Create an empty list to store the stems\n",
        "sample_review_stem = []\n",
        "for word in sample_review_clean:\n",
        "  stem_word = stemmer.stem(word) # stemming word\n",
        "  sample_review_stem.append(stem_word) # append to the list\n",
        "print('stemmed words:')\n",
        "print(sample_review_stem)"
      ],
      "execution_count": null,
      "outputs": [
        {
          "output_type": "stream",
          "text": [
            "\n",
            "\u001b[92m\n",
            "['paired', 'behringer', 'c', '1', 'studio', 'condenser', 'microphone', 'matches', 'mic', 'well', 'color-wise', 'fit', 'c', '1', 'fits', 'mount', 'perfectly', 'recommend', 'mount', 'highly']\n",
            "\u001b[94m\n",
            "stemmed words:\n",
            "['pair', 'behring', 'c', '1', 'studio', 'condens', 'microphon', 'match', 'mic', 'well', 'color-wis', 'fit', 'c', '1', 'fit', 'mount', 'perfectli', 'recommend', 'mount', 'highli']\n"
          ],
          "name": "stdout"
        }
      ]
    },
    {
      "cell_type": "code",
      "metadata": {
        "id": "ll7ZPoLWNkOE"
      },
      "source": [
        ""
      ],
      "execution_count": null,
      "outputs": []
    }
  ]
}
