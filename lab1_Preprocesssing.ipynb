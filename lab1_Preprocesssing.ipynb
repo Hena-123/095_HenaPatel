{
  "nbformat": 4,
  "nbformat_minor": 0,
  "metadata": {
    "colab": {
      "name": "lab1_Preprocesssing.ipynb",
      "provenance": [],
      "collapsed_sections": [],
      "authorship_tag": "ABX9TyOmkjD2yqsjRqSacvib4/R1",
      "include_colab_link": true
    },
    "kernelspec": {
      "name": "python3",
      "display_name": "Python 3"
    },
    "language_info": {
      "name": "python"
    }
  },
  "cells": [
    {
      "cell_type": "markdown",
      "metadata": {
        "id": "view-in-github",
        "colab_type": "text"
      },
      "source": [
        "<a href=\"https://colab.research.google.com/github/Hena-123/095_HenaPatel/blob/main/lab1_Preprocesssing.ipynb\" target=\"_parent\"><img src=\"https://colab.research.google.com/assets/colab-badge.svg\" alt=\"Open In Colab\"/></a>"
      ]
    },
    {
      "cell_type": "code",
      "metadata": {
        "id": "wXnaFMqnbERU"
      },
      "source": [
        "import numpy as np"
      ],
      "execution_count": null,
      "outputs": []
    },
    {
      "cell_type": "markdown",
      "metadata": {
        "id": "5ZXffReabcr2"
      },
      "source": [
        "**1) Create Two numpy array of size 3 X 2 and 2 X 3**\n",
        "\n",
        "**2) Randomly Initalize that array**"
      ]
    },
    {
      "cell_type": "code",
      "metadata": {
        "colab": {
          "base_uri": "https://localhost:8080/"
        },
        "id": "__sjUEavbKEz",
        "outputId": "7de608a6-ef42-48b3-fd10-fd975ad45857"
      },
      "source": [
        "narray1 = np.array([1,2])\n",
        "narray2 = np.array([1,2,3])\n",
        "\n",
        "matrix1 = np.array([narray1,narray1+1,narray1+2])\n",
        "matrix2 = np.array([narray2,narray2+2])\n",
        "print(matrix1)\n",
        "print(matrix2)"
      ],
      "execution_count": null,
      "outputs": [
        {
          "output_type": "stream",
          "text": [
            "[[1 2]\n",
            " [2 3]\n",
            " [3 4]]\n",
            "[[1 2 3]\n",
            " [3 4 5]]\n"
          ],
          "name": "stdout"
        }
      ]
    },
    {
      "cell_type": "markdown",
      "metadata": {
        "id": "On08hO88cjdB"
      },
      "source": [
        "**3) Perform matrix multiplication**"
      ]
    },
    {
      "cell_type": "code",
      "metadata": {
        "colab": {
          "base_uri": "https://localhost:8080/"
        },
        "id": "-T14YrxCcWmQ",
        "outputId": "32a98b44-6aea-40e4-f1e1-24be25fe4b5f"
      },
      "source": [
        "np.matmul(matrix1,matrix2)"
      ],
      "execution_count": null,
      "outputs": [
        {
          "output_type": "execute_result",
          "data": {
            "text/plain": [
              "array([[ 7, 10, 13],\n",
              "       [11, 16, 21],\n",
              "       [15, 22, 29]])"
            ]
          },
          "metadata": {},
          "execution_count": 15
        }
      ]
    },
    {
      "cell_type": "markdown",
      "metadata": {
        "id": "7MZt9hlCcnGH"
      },
      "source": [
        "**4) Perform elementwise matrix multiplication**"
      ]
    },
    {
      "cell_type": "code",
      "metadata": {
        "colab": {
          "base_uri": "https://localhost:8080/",
          "height": 162
        },
        "id": "_3joyt-ocRWO",
        "outputId": "ec640a25-d38f-4f9f-e69b-0820aa92b99e"
      },
      "source": [
        "matrix1 * matrix2"
      ],
      "execution_count": null,
      "outputs": [
        {
          "output_type": "error",
          "ename": "ValueError",
          "evalue": "ignored",
          "traceback": [
            "\u001b[0;31m---------------------------------------------------------------------------\u001b[0m",
            "\u001b[0;31mValueError\u001b[0m                                Traceback (most recent call last)",
            "\u001b[0;32m<ipython-input-16-e7fbdb50fe6a>\u001b[0m in \u001b[0;36m<module>\u001b[0;34m()\u001b[0m\n\u001b[0;32m----> 1\u001b[0;31m \u001b[0mmatrix1\u001b[0m \u001b[0;34m*\u001b[0m \u001b[0mmatrix2\u001b[0m\u001b[0;34m\u001b[0m\u001b[0;34m\u001b[0m\u001b[0m\n\u001b[0m",
            "\u001b[0;31mValueError\u001b[0m: operands could not be broadcast together with shapes (3,2) (2,3) "
          ]
        }
      ]
    },
    {
      "cell_type": "markdown",
      "metadata": {
        "id": "wZiMo9t9EC0A"
      },
      "source": [
        "Here for elementwise matrix multiplication, both matrix must have same no of element in each row. Matrix1 is off 3 X 2 and matrix2 is off 2 X 3."
      ]
    },
    {
      "cell_type": "code",
      "metadata": {
        "colab": {
          "base_uri": "https://localhost:8080/"
        },
        "id": "K0uPKcYjDOXv",
        "outputId": "69295d90-9c86-49f5-c96b-cc125e9ad5d3"
      },
      "source": [
        "m1 = np.array([narray1,narray1+1,])\n",
        "m2 = np.array([narray1+1,narray1+2])\n",
        "print(m1,\"\\n\")\n",
        "print(m2,\"\\n\")\n",
        "print(m1 * m2)"
      ],
      "execution_count": null,
      "outputs": [
        {
          "output_type": "stream",
          "text": [
            "[[1 2]\n",
            " [2 3]] \n",
            "\n",
            "[[2 3]\n",
            " [3 4]] \n",
            "\n",
            "[[ 2  6]\n",
            " [ 6 12]]\n"
          ],
          "name": "stdout"
        }
      ]
    },
    {
      "cell_type": "markdown",
      "metadata": {
        "id": "fRQ2iBErcqTc"
      },
      "source": [
        "**5) Find mean of first matrix**"
      ]
    },
    {
      "cell_type": "code",
      "metadata": {
        "colab": {
          "base_uri": "https://localhost:8080/"
        },
        "id": "RsobuZfJbtMc",
        "outputId": "435b576f-0ca9-48e5-c95e-8e9696f70579"
      },
      "source": [
        "np.mean(matrix1)"
      ],
      "execution_count": null,
      "outputs": [
        {
          "output_type": "execute_result",
          "data": {
            "text/plain": [
              "2.5"
            ]
          },
          "metadata": {},
          "execution_count": 18
        }
      ]
    },
    {
      "cell_type": "markdown",
      "metadata": {
        "id": "sbu9i7L4csy3"
      },
      "source": [
        "**6) Convert Numeric entries(columns) of mtcars.csv to Mean Centered Version**"
      ]
    },
    {
      "cell_type": "code",
      "metadata": {
        "id": "TAeOVPGFbriF"
      },
      "source": [
        "import pandas as pd\n",
        "data=pd.read_csv('./Exercise-CarData.csv')"
      ],
      "execution_count": null,
      "outputs": []
    },
    {
      "cell_type": "code",
      "metadata": {
        "colab": {
          "base_uri": "https://localhost:8080/"
        },
        "id": "32-krg-MKIrZ",
        "outputId": "b7c42053-831b-4934-ac3e-86456a064046"
      },
      "source": [
        "meanCenteredVersion = data['Price'] - np.mean(data['Price'],axis=0)\n",
        "print(meanCenteredVersion)"
      ],
      "execution_count": null,
      "outputs": [
        {
          "output_type": "stream",
          "text": [
            "0       2769.175487\n",
            "1       3019.175487\n",
            "2       3219.175487\n",
            "3       4219.175487\n",
            "4       3019.175487\n",
            "           ...     \n",
            "1431   -3230.824513\n",
            "1432     114.175487\n",
            "1433   -2230.824513\n",
            "1434   -3480.824513\n",
            "1435   -3780.824513\n",
            "Name: Price, Length: 1436, dtype: float64\n"
          ],
          "name": "stdout"
        }
      ]
    },
    {
      "cell_type": "code",
      "metadata": {
        "colab": {
          "base_uri": "https://localhost:8080/"
        },
        "id": "7kYccUu-KEOe",
        "outputId": "aa14385f-6998-49cc-d303-40dc72a8ec5b"
      },
      "source": [
        "sumof_meanCenteredVersion = np.sum(meanCenteredVersion,axis=0)\n",
        "print(sumof_meanCenteredVersion)"
      ],
      "execution_count": null,
      "outputs": [
        {
          "output_type": "stream",
          "text": [
            "4.656612873077393e-10\n"
          ],
          "name": "stdout"
        }
      ]
    },
    {
      "cell_type": "markdown",
      "metadata": {
        "id": "4q6V3dvoLbBX"
      },
      "source": [
        "Here sumof_meanCenteredVersion is 4.6 X 10^-10 which is nearer to 0 which shows that Price Column is mean cenetered version."
      ]
    },
    {
      "cell_type": "code",
      "metadata": {
        "id": "jYGR3fvHLYmi"
      },
      "source": [
        ""
      ],
      "execution_count": null,
      "outputs": []
    }
  ]
}