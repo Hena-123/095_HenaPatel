{
  "nbformat": 4,
  "nbformat_minor": 0,
  "metadata": {
    "colab": {
      "name": "lab2_DataProcessingTasks.ipynb",
      "provenance": [],
      "collapsed_sections": [],
      "include_colab_link": true
    },
    "kernelspec": {
      "display_name": "Python 3",
      "language": "python",
      "name": "python3"
    },
    "language_info": {
      "codemirror_mode": {
        "name": "ipython",
        "version": 3
      },
      "file_extension": ".py",
      "mimetype": "text/x-python",
      "name": "python",
      "nbconvert_exporter": "python",
      "pygments_lexer": "ipython3",
      "version": "3.6.9"
    }
  },
  "cells": [
    {
      "cell_type": "markdown",
      "metadata": {
        "id": "view-in-github",
        "colab_type": "text"
      },
      "source": [
        "<a href=\"https://colab.research.google.com/github/Hena-123/095_HenaPatel/blob/main/lab2_DataProcessingTasks.ipynb\" target=\"_parent\"><img src=\"https://colab.research.google.com/assets/colab-badge.svg\" alt=\"Open In Colab\"/></a>"
      ]
    },
    {
      "cell_type": "markdown",
      "metadata": {
        "id": "ycf64X0-LgR-"
      },
      "source": [
        "# **Handling the missing value**"
      ]
    },
    {
      "cell_type": "code",
      "metadata": {
        "id": "N-mX5ZvwLjBR"
      },
      "source": [
        "import numpy as np \n",
        "import pandas as pd\n",
        "from sklearn.impute import SimpleImputer "
      ],
      "execution_count": null,
      "outputs": []
    },
    {
      "cell_type": "code",
      "metadata": {
        "colab": {
          "base_uri": "https://localhost:8080/"
        },
        "id": "wkIKO0DnMOXE",
        "outputId": "be1ad0b2-76dd-4e12-fc8f-7985a4d1b845"
      },
      "source": [
        "data = pd.read_csv('Data_for_Missing_Values.csv') \n",
        "print(\"\\nData :\\n\",data)"
      ],
      "execution_count": null,
      "outputs": [
        {
          "output_type": "stream",
          "name": "stdout",
          "text": [
            "\n",
            "Data :\n",
            "     Country   Age   Salary Purchased\n",
            "0    France  44.0  72000.0        No\n",
            "1     Spain  27.0  48000.0       Yes\n",
            "2   Germany  30.0  54000.0        No\n",
            "3     Spain  38.0  61000.0        No\n",
            "4       NaN   NaN      NaN       NaN\n",
            "5   Germany  40.0      NaN       Yes\n",
            "6    France  35.0  58000.0       Yes\n",
            "7     Spain   NaN  52000.0        No\n",
            "8    France  48.0  79000.0       Yes\n",
            "9   Germany  50.0  83000.0        No\n",
            "10   France  37.0  67000.0       Yes\n",
            "11    Spain  45.0  55000.0        No\n"
          ]
        }
      ]
    },
    {
      "cell_type": "code",
      "metadata": {
        "id": "mE6tea1xMpBJ"
      },
      "source": [
        "X = data.iloc[:, :-1].values   \n",
        "Y = data.iloc[:, -1].values \n",
        "#print(\"\\n\\nInput : \\n\", X) \n",
        "#print(\"\\n\\nOutput: \\n\", Y) "
      ],
      "execution_count": null,
      "outputs": []
    },
    {
      "cell_type": "code",
      "metadata": {
        "colab": {
          "base_uri": "https://localhost:8080/"
        },
        "id": "vAw1ag4LM3cO",
        "outputId": "904f3d8b-fd98-4d4a-f9a5-2b4b19791dfb"
      },
      "source": [
        "# Method-1 : Removing data\n",
        "  # ‘any’ : If any NA values are present, drop that row or column.\n",
        "  # ‘all’ : If all values are NA, drop that row or column.\n",
        "data.dropna(how='all',inplace=True)\n",
        "print(\"\\nNew Data :\",data)"
      ],
      "execution_count": null,
      "outputs": [
        {
          "output_type": "stream",
          "name": "stdout",
          "text": [
            "\n",
            "New Data :     Country   Age   Salary Purchased\n",
            "0    France  44.0  72000.0        No\n",
            "1     Spain  27.0  48000.0       Yes\n",
            "2   Germany  30.0  54000.0        No\n",
            "3     Spain  38.0  61000.0        No\n",
            "5   Germany  40.0      NaN       Yes\n",
            "6    France  35.0  58000.0       Yes\n",
            "7     Spain   NaN  52000.0        No\n",
            "8    France  48.0  79000.0       Yes\n",
            "9   Germany  50.0  83000.0        No\n",
            "10   France  37.0  67000.0       Yes\n",
            "11    Spain  45.0  55000.0        No\n"
          ]
        }
      ]
    },
    {
      "cell_type": "code",
      "metadata": {
        "colab": {
          "base_uri": "https://localhost:8080/"
        },
        "id": "LZE9VS1RM3ES",
        "outputId": "30e6c657-275c-4676-b3fd-93b12287cb30"
      },
      "source": [
        "#Method-2 : Imputation\n",
        "new_X = data.iloc[:, :-1].values \n",
        "new_Y = data.iloc[:, -1].values \n",
        "\n",
        "# missing_values: int, float, str, np.nan or None, default=np.nan\n",
        "#strategy: mean, median, most_frequent, constant\n",
        "imputer = SimpleImputer(missing_values = np.nan,strategy = \"mean\")\n",
        "imputer = imputer.fit(new_X[:, 1:3]) \n",
        "new_X[:, 1:3] = imputer.transform(new_X[:, 1:3]) \n",
        "  \n",
        "# filling the missing value with mean \n",
        "print(\"\\n\\nNew Input with Mean Value for NaN : \\n\\n\", new_X) \n",
        "print(\"\\nData statistics\\n\",data.describe())"
      ],
      "execution_count": null,
      "outputs": [
        {
          "output_type": "stream",
          "name": "stdout",
          "text": [
            "\n",
            "\n",
            "New Input with Mean Value for NaN : \n",
            "\n",
            " [['France' 44.0 72000.0]\n",
            " ['Spain' 27.0 48000.0]\n",
            " ['Germany' 30.0 54000.0]\n",
            " ['Spain' 38.0 61000.0]\n",
            " ['Germany' 40.0 62900.0]\n",
            " ['France' 35.0 58000.0]\n",
            " ['Spain' 39.4 52000.0]\n",
            " ['France' 48.0 79000.0]\n",
            " ['Germany' 50.0 83000.0]\n",
            " ['France' 37.0 67000.0]\n",
            " ['Spain' 45.0 55000.0]]\n",
            "\n",
            "Data statistics\n",
            "              Age        Salary\n",
            "count  10.000000     10.000000\n",
            "mean   39.400000  62900.000000\n",
            "std     7.515909  11892.574714\n",
            "min    27.000000  48000.000000\n",
            "25%    35.500000  54250.000000\n",
            "50%    39.000000  59500.000000\n",
            "75%    44.750000  70750.000000\n",
            "max    50.000000  83000.000000\n"
          ]
        }
      ]
    },
    {
      "cell_type": "markdown",
      "metadata": {
        "id": "ZvKU5PWVOvrn"
      },
      "source": [
        "As you can see here Mean for salary feature is 62900.00 that is copied to index 5th for(Germany,40.0,NaN) at NaN place."
      ]
    },
    {
      "cell_type": "markdown",
      "metadata": {
        "id": "AyuV2I4kUEdy"
      },
      "source": [
        "# **Data Transformation**"
      ]
    },
    {
      "cell_type": "code",
      "metadata": {
        "colab": {
          "base_uri": "https://localhost:8080/"
        },
        "id": "k7ojSjUMcPIE",
        "outputId": "8a329f0e-5df9-48c6-9fb1-db45fe3cd844"
      },
      "source": [
        "# Step 1: Import Libraries\n",
        "\n",
        "import numpy as np \n",
        "import pandas as pd\n",
        "from sklearn.preprocessing import MinMaxScaler, StandardScaler, PowerTransformer\n",
        "\n",
        "# Step 2: Load Data\n",
        "        \n",
        "datasets = pd.read_csv('Exercise-CarData.csv') \n",
        "print(\"\\nData :\\n\",datasets)\n",
        "#print(\"\\nData statistics\\n\",datasets.describe())\n",
        "\n",
        "# Step 3: Seprate Input and Output attributes\n",
        "\n",
        "# All rows, all columns except last \n",
        "X = datasets.iloc[:, :-1].values \n",
        "  \n",
        "# Only last column  \n",
        "Y = datasets.iloc[:, -1].values \n",
        "\n",
        "#print(\"\\n\\nInput : \\n\", X) \n",
        "#print(\"\\n\\nOutput: \\n\", Y) \n",
        "\n",
        "X_new = datasets.iloc[:,1:3].values\n",
        "print(\"\\n\\nX for transformation : \\n\", X_new)"
      ],
      "execution_count": null,
      "outputs": [
        {
          "output_type": "stream",
          "text": [
            "\n",
            "Data :\n",
            "       Unnamed: 0  Price   Age     KM  ... Automatic    CC  Doors  Weight\n",
            "0              0  13500  23.0  46986  ...         0  2000  three    1165\n",
            "1              1  13750  23.0  72937  ...         0  2000      3    1165\n",
            "2              2  13950  24.0  41711  ...         0  2000      3    1165\n",
            "3              3  14950  26.0  48000  ...         0  2000      3    1165\n",
            "4              4  13750  30.0  38500  ...         0  2000      3    1170\n",
            "...          ...    ...   ...    ...  ...       ...   ...    ...     ...\n",
            "1431        1431   7500   NaN  20544  ...         0  1300      3    1025\n",
            "1432        1432  10845  72.0     ??  ...         0  1300      3    1015\n",
            "1433        1433   8500   NaN  17016  ...         0  1300      3    1015\n",
            "1434        1434   7250  70.0     ??  ...         0  1300      3    1015\n",
            "1435        1435   6950  76.0      1  ...         0  1600      5    1114\n",
            "\n",
            "[1436 rows x 11 columns]\n",
            "\n",
            "\n",
            "X for transformation : \n",
            " [[13500.    23.]\n",
            " [13750.    23.]\n",
            " [13950.    24.]\n",
            " ...\n",
            " [ 8500.    nan]\n",
            " [ 7250.    70.]\n",
            " [ 6950.    76.]]\n"
          ],
          "name": "stdout"
        }
      ]
    },
    {
      "cell_type": "markdown",
      "metadata": {
        "id": "68_KMDTksu_R"
      },
      "source": [
        "### **Min-Max Normalization**\n",
        "\n",
        "![Screenshot from 2021-08-23 16-38-41.png](data:image/png;base64,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)"
      ]
    },
    {
      "cell_type": "markdown",
      "metadata": {
        "id": "HvingY_BszA2"
      },
      "source": [
        "Here for example, price[0]= 13500.0 that is x, x_min=4350.0, x_max=32500.0\n",
        "\n",
        "So, x' = (13500.0-4350.0)/(32500.0-4350.0) = 0.325044405\n",
        "\n",
        "So, here in Min-Max Normalizarion Output value within the range of [0-1] means all values in the same unit."
      ]
    },
    {
      "cell_type": "code",
      "metadata": {
        "colab": {
          "base_uri": "https://localhost:8080/"
        },
        "id": "93nakT-8weJG",
        "outputId": "e92b4056-a49a-47e6-dbb5-8bf55d0979c4"
      },
      "source": [
        "ages = []\n",
        "prices = []\n",
        "for each in X_new:\n",
        "  prices.append(each[0])\n",
        "  ages.append(each[1])\n",
        "print(prices)\n",
        "print(ages)\n",
        "print(min(prices))\n",
        "print(max(prices))"
      ],
      "execution_count": null,
      "outputs": [
        {
          "output_type": "stream",
          "text": [
            "[13500.0, 13750.0, 13950.0, 14950.0, 13750.0, 12950.0, 16900.0, 18600.0, 21500.0, 12950.0, 20950.0, 19950.0, 19600.0, 21500.0, 22500.0, 22000.0, 22750.0, 17950.0, 16750.0, 16950.0, 15950.0, 16950.0, 15950.0, 16950.0, 16250.0, 15950.0, 17495.0, 15750.0, 16950.0, 17950.0, 12950.0, 15750.0, 15950.0, 14950.0, 15500.0, 15750.0, 15950.0, 14950.0, 15750.0, 14750.0, 13950.0, 16750.0, 13950.0, 16950.0, 16950.0, 19000.0, 17950.0, 15800.0, 17950.0, 21950.0, 17950.0, 15750.0, 20500.0, 21950.0, 15500.0, 13250.0, 15250.0, 15250.0, 18950.0, 15999.0, 14950.0, 16500.0, 18750.0, 17950.0, 17950.0, 16950.0, 18950.0, 14950.0, 22250.0, 15950.0, 15950.0, 12995.0, 18950.0, 15750.0, 19950.0, 16950.0, 18750.0, 18450.0, 16895.0, 14900.0, 18950.0, 17250.0, 15450.0, 17950.0, 16650.0, 17450.0, 14900.0, 17950.0, 15950.0, 21950.0, 16450.0, 22250.0, 19950.0, 15950.0, 18900.0, 19950.0, 15950.0, 15950.0, 18750.0, 17450.0, 18990.0, 16250.0, 18500.0, 18500.0, 19450.0, 16950.0, 18800.0, 17450.0, 17950.0, 32500.0, 31000.0, 31275.0, 24950.0, 24950.0, 22950.0, 24990.0, 21950.0, 17900.0, 19250.0, 22250.0, 18950.0, 19950.0, 16350.0, 18950.0, 16950.0, 21750.0, 15950.0, 16500.0, 17950.0, 15850.0, 16250.0, 15950.0, 16250.0, 15950.0, 16500.0, 16500.0, 18450.0, 16250.0, 23000.0, 19900.0, 16450.0, 23950.0, 19950.0, 18500.0, 18950.0, 16450.0, 20500.0, 24500.0, 19450.0, 20950.0, 17200.0, 19950.0, 18450.0, 19500.0, 21750.0, 16868.0, 19500.0, 18900.0, 19750.0, 19750.0, 18950.0, 20750.0, 19600.0, 19500.0, 17650.0, 19950.0, 19950.0, 20950.0, 20500.0, 17795.0, 18245.0, 23750.0, 19500.0, 18950.0, 21950.0, 19950.0, 18950.0, 19950.0, 21950.0, 22500.0, 18500.0, 18700.0, 21125.0, 21500.0, 17795.0, 18245.0, 6950.0, 9500.0, 11950.0, 7750.0, 11950.0, 4350.0, 4750.0, 11750.0, 13250.0, 11950.0, 11900.0, 14750.0, 9950.0, 11950.0, 11495.0, 11250.0, 10500.0, 10450.0, 12950.0, 11500.0, 12500.0, 10950.0, 11450.0, 11950.0, 13250.0, 14750.0, 11790.0, 11450.0, 13500.0, 10950.0, 13500.0, 10950.0, 10950.0, 12950.0, 11950.0, 12450.0, 11950.0, 14950.0, 12450.0, 12950.0, 11950.0, 11690.0, 12450.0, 12750.0, 11925.0, 12950.0, 11950.0, 12900.0, 11900.0, 11650.0, 10950.0, 13950.0, 13950.0, 11950.0, 10950.0, 12450.0, 11950.0, 13500.0, 11690.0, 13500.0, 11950.0, 12900.0, 13500.0, 11750.0, 11750.0, 10850.0, 11750.0, 14950.0, 9940.0, 12900.0, 13500.0, 11750.0, 11950.0, 13450.0, 11950.0, 12495.0, 13500.0, 12750.0, 12000.0, 11950.0, 12495.0, 12450.0, 14750.0, 10950.0, 13500.0, 12950.0, 13500.0, 13450.0, 13500.0, 11480.0, 13450.0, 11495.0, 12750.0, 14990.0, 12950.0, 12950.0, 12850.0, 13950.0, 11950.0, 12950.0, 11700.0, 9950.0, 11895.0, 12950.0, 12500.0, 13875.0, 10500.0, 12295.0, 13950.0, 10950.0, 12950.0, 12850.0, 13995.0, 13750.0, 12750.0, 12500.0, 13950.0, 11500.0, 13950.0, 11895.0, 9950.0, 13500.0, 11450.0, 12450.0, 12950.0, 13995.0, 11750.0, 11650.0, 9950.0, 13950.0, 12950.0, 10950.0, 9900.0, 11950.0, 11990.0, 10750.0, 13950.0, 11250.0, 12950.0, 11950.0, 10950.0, 12950.0, 12950.0, 11695.0, 11000.0, 13950.0, 11950.0, 11750.0, 12400.0, 12500.0, 12900.0, 12200.0, 12750.0, 11950.0, 11900.0, 11950.0, 14950.0, 11950.0, 12950.0, 14950.0, 13450.0, 13750.0, 12950.0, 12750.0, 11895.0, 9950.0, 12450.0, 12500.0, 14950.0, 13750.0, 12695.0, 14990.0, 12750.0, 14350.0, 12950.0, 11500.0, 11950.0, 13450.0, 12900.0, 10500.0, 10950.0, 11950.0, 11450.0, 13250.0, 10250.0, 13995.0, 11950.0, 13250.0, 12950.0, 11750.0, 11500.0, 13500.0, 6500.0, 6400.0, 7000.0, 7750.0, 8900.0, 8500.0, 8950.0, 9900.0, 10250.0, 9250.0, 7750.0, 9450.0, 7750.0, 8250.0, 9950.0, 4450.0, 9950.0, 9000.0, 9950.0, 12450.0, 10500.0, 10750.0, 8950.0, 10500.0, 5150.0, 10950.0, 9450.0, 9950.0, 10950.0, 11900.0, 9950.0, 11950.0, 7900.0, 10950.0, 8950.0, 11950.0, 10900.0, 9950.0, 9950.0, 10950.0, 8950.0, 8950.0, 10500.0, 8950.0, 9250.0, 11500.0, 9750.0, 9950.0, 11450.0, 12500.0, 10500.0, 12950.0, 12200.0, 10950.0, 10950.0, 11290.0, 10750.0, 10895.0, 11500.0, 9750.0, 10250.0, 12500.0, 11950.0, 10750.0, 11450.0, 11950.0, 11750.0, 10950.0, 11950.0, 10995.0, 11450.0, 8900.0, 10500.0, 11750.0, 11450.0, 12000.0, 11950.0, 9850.0, 10950.0, 10950.0, 8695.0, 10990.0, 9500.0, 11950.0, 10750.0, 8750.0, 8750.0, 11450.0, 9950.0, 11950.0, 13950.0, 11250.0, 10900.0, 9750.0, 9950.0, 11950.0, 10450.0, 8950.0, 10250.0, 9930.0, 10500.0, 11950.0, 11500.0, 11500.0, 11450.0, 9900.0, 9500.0, 10500.0, 10750.0, 8950.0, 12000.0, 9940.0, 10950.0, 10750.0, 9799.0, 11750.0, 11950.0, 11250.0, 11750.0, 10950.0, 11250.0, 9950.0, 9700.0, 11950.0, 9900.0, 9990.0, 9475.0, 11500.0, 11950.0, 11500.0, 10500.0, 10900.0, 11700.0, 11900.0, 13950.0, 10950.0, 10500.0, 10750.0, 11950.0, 10000.0, 10495.0, 11450.0, 9400.0, 11950.0, 9650.0, 18950.0, 11450.0, 10250.0, 11450.0, 9950.0, 10500.0, 13750.0, 9950.0, 10250.0, 10850.0, 11895.0, 12950.0, 11950.0, 10750.0, 9550.0, 10950.0, 11750.0, 10950.0, 12450.0, 10500.0, 10900.0, 12950.0, 10950.0, 12500.0, 9950.0, 10750.0, 12500.0, 10450.0, 10750.0, 12950.0, 10995.0, 11950.0, 11250.0, 11950.0, 13750.0, 11000.0, 13500.0, 10950.0, 10750.0, 8950.0, 12950.0, 9750.0, 10900.0, 10995.0, 10750.0, 10950.0, 13000.0, 12950.0, 11500.0, 10950.0, 11710.0, 9980.0, 12250.0, 11500.0, 11950.0, 11500.0, 11900.0, 11930.0, 10500.0, 8950.0, 10450.0, 10500.0, 12950.0, 9950.0, 12900.0, 9950.0, 9950.0, 10950.0, 10950.0, 9950.0, 10950.0, 10800.0, 10500.0, 10450.0, 10600.0, 10450.0, 12950.0, 11250.0, 7500.0, 8950.0, 6950.0, 7900.0, 5950.0, 7500.0, 7500.0, 6900.0, 5751.0, 6950.0, 7950.0, 7750.0, 7950.0, 8250.0, 6250.0, 9500.0, 6900.0, 8450.0, 7350.0, 8950.0, 6900.0, 8950.0, 8750.0, 7950.0, 8950.0, 8950.0, 8950.0, 7950.0, 7750.0, 7500.0, 8950.0, 9800.0, 9450.0, 8950.0, 8750.0, 10500.0, 7995.0, 10450.0, 9950.0, 9950.0, 8950.0, 7950.0, 10950.0, 9950.0, 8600.0, 7250.0, 6950.0, 8000.0, 9950.0, 9450.0, 7950.0, 9450.0, 9950.0, 6950.0, 8250.0, 9950.0, 8250.0, 9950.0, 10500.0, 7950.0, 9750.0, 9250.0, 9500.0, 9950.0, 7750.0, 9500.0, 9950.0, 9750.0, 9750.0, 5950.0, 8500.0, 8495.0, 9250.0, 6900.0, 8950.0, 9500.0, 9250.0, 9895.0, 9950.0, 7950.0, 8750.0, 8250.0, 8950.0, 8950.0, 8950.0, 8950.0, 9450.0, 8950.0, 9250.0, 8750.0, 9950.0, 9950.0, 9900.0, 8950.0, 8950.0, 12250.0, 9250.0, 10250.0, 8950.0, 7999.0, 9900.0, 8250.0, 10500.0, 8450.0, 9900.0, 10500.0, 8500.0, 9500.0, 9450.0, 9900.0, 8250.0, 8750.0, 9500.0, 8450.0, 8490.0, 8750.0, 9750.0, 9950.0, 8500.0, 8450.0, 7900.0, 8750.0, 7950.0, 6900.0, 8150.0, 10995.0, 8900.0, 9500.0, 8950.0, 11500.0, 10450.0, 10500.0, 9250.0, 10950.0, 10450.0, 9250.0, 8750.0, 8750.0, 9800.0, 8250.0, 10450.0, 9750.0, 8950.0, 7450.0, 8450.0, 8250.0, 10950.0, 8950.0, 8750.0, 10450.0, 10950.0, 8450.0, 9950.0, 9950.0, 8750.0, 9950.0, 9500.0, 8250.0, 10950.0, 7950.0, 8250.0, 9895.0, 9130.0, 10950.0, 10500.0, 8900.0, 9500.0, 10950.0, 7950.0, 7950.0, 7950.0, 9500.0, 10950.0, 9750.0, 9750.0, 9450.0, 8950.0, 8950.0, 8900.0, 9950.0, 8750.0, 8950.0, 8990.0, 8950.0, 8950.0, 9950.0, 9900.0, 8950.0, 8950.0, 9500.0, 7950.0, 7750.0, 8950.0, 11950.0, 8950.0, 11950.0, 8950.0, 9950.0, 8250.0, 8995.0, 9995.0, 9250.0, 10950.0, 8900.0, 9500.0, 9950.0, 7950.0, 8250.0, 9450.0, 7950.0, 9500.0, 8950.0, 10950.0, 8950.0, 9450.0, 8000.0, 9900.0, 8950.0, 10900.0, 9450.0, 8450.0, 9500.0, 10500.0, 6950.0, 9750.0, 6950.0, 9650.0, 9950.0, 9250.0, 8950.0, 9900.0, 10995.0, 10500.0, 8950.0, 9750.0, 10950.0, 9750.0, 9950.0, 10500.0, 10400.0, 8800.0, 10500.0, 9250.0, 7800.0, 9950.0, 10750.0, 10950.0, 9950.0, 9950.0, 8100.0, 9250.0, 7800.0, 9000.0, 8950.0, 8950.0, 9950.0, 8500.0, 7995.0, 8750.0, 9750.0, 10950.0, 9750.0, 8200.0, 8950.0, 9500.0, 10950.0, 9750.0, 9950.0, 10450.0, 9850.0, 9450.0, 10295.0, 9750.0, 8950.0, 9900.0, 8750.0, 9950.0, 8500.0, 9950.0, 10950.0, 9795.0, 8750.0, 8250.0, 9950.0, 9950.0, 10500.0, 9750.0, 11250.0, 8900.0, 7950.0, 11500.0, 9450.0, 7995.0, 10995.0, 8950.0, 8250.0, 8950.0, 8950.0, 9500.0, 7500.0, 8950.0, 9950.0, 9750.0, 9450.0, 9950.0, 9750.0, 8950.0, 8250.0, 7750.0, 8950.0, 9950.0, 9450.0, 12950.0, 9950.0, 10495.0, 7950.0, 10500.0, 8950.0, 9900.0, 9995.0, 9950.0, 9950.0, 8250.0, 9950.0, 8950.0, 10950.0, 9250.0, 9950.0, 9995.0, 8750.0, 10950.0, 10350.0, 9950.0, 8950.0, 10950.0, 10950.0, 8950.0, 8900.0, 10250.0, 9450.0, 9250.0, 10500.0, 7350.0, 10250.0, 10250.0, 11500.0, 8950.0, 7750.0, 9500.0, 8450.0, 8950.0, 8400.0, 9250.0, 8900.0, 8750.0, 10950.0, 8950.0, 8950.0, 8895.0, 9390.0, 8750.0, 9750.0, 9950.0, 10950.0, 9900.0, 9500.0, 9950.0, 9950.0, 10500.0, 9950.0, 10495.0, 9500.0, 8500.0, 10450.0, 8950.0, 9900.0, 8900.0, 8745.0, 8750.0, 10750.0, 9750.0, 8850.0, 7950.0, 9450.0, 9950.0, 8250.0, 9950.0, 9995.0, 9950.0, 10495.0, 7950.0, 8950.0, 9695.0, 7750.0, 9950.0, 9950.0, 9950.0, 9900.0, 10950.0, 8950.0, 8950.0, 8250.0, 10250.0, 8750.0, 9750.0, 10950.0, 10950.0, 9750.0, 8900.0, 9500.0, 9950.0, 9950.0, 8250.0, 10450.0, 10950.0, 9250.0, 8900.0, 10900.0, 9750.0, 11950.0, 7900.0, 10900.0, 10450.0, 10950.0, 9950.0, 10750.0, 9900.0, 10750.0, 10450.0, 9450.0, 10750.0, 10950.0, 10000.0, 10500.0, 12500.0, 8950.0, 10500.0, 9245.0, 10950.0, 9500.0, 10900.0, 10950.0, 9450.0, 5900.0, 6950.0, 6000.0, 5250.0, 4400.0, 6750.0, 8500.0, 6150.0, 6950.0, 5750.0, 8750.0, 6500.0, 5950.0, 6500.0, 10500.0, 8500.0, 7950.0, 5800.0, 6750.0, 6950.0, 5740.0, 6550.0, 8950.0, 6750.0, 7950.0, 7950.0, 7450.0, 7750.0, 6450.0, 7900.0, 6900.0, 5600.0, 5950.0, 6950.0, 7950.0, 8950.0, 7950.0, 9500.0, 8600.0, 5950.0, 7750.0, 7950.0, 6950.0, 7250.0, 6500.0, 7250.0, 9250.0, 8250.0, 7250.0, 5250.0, 7900.0, 6900.0, 7900.0, 7250.0, 8450.0, 7950.0, 7950.0, 6450.0, 6650.0, 7950.0, 7250.0, 7450.0, 7950.0, 7250.0, 8250.0, 8950.0, 7750.0, 8500.0, 7750.0, 5750.0, 6900.0, 6500.0, 6500.0, 7600.0, 8950.0, 7450.0, 7350.0, 7750.0, 7460.0, 9250.0, 7250.0, 6500.0, 6800.0, 8700.0, 7500.0, 7750.0, 7950.0, 9950.0, 6640.0, 8750.0, 7750.0, 5950.0, 6750.0, 6500.0, 8750.0, 7950.0, 6750.0, 7950.0, 7950.0, 8950.0, 7750.0, 6450.0, 6900.0, 8450.0, 6750.0, 8050.0, 9500.0, 7750.0, 8500.0, 7795.0, 6490.0, 7950.0, 6425.0, 8950.0, 6950.0, 8750.0, 8450.0, 7950.0, 7950.0, 8900.0, 8950.0, 8900.0, 7950.0, 6495.0, 7250.0, 9250.0, 6650.0, 6990.0, 7750.0, 6950.0, 7250.0, 9950.0, 9250.0, 7200.0, 8250.0, 8950.0, 8250.0, 6250.0, 9900.0, 7300.0, 8950.0, 6500.0, 7950.0, 7450.0, 7950.0, 8500.0, 6950.0, 7950.0, 6750.0, 8450.0, 7500.0, 8750.0, 8750.0, 8950.0, 7450.0, 9200.0, 8950.0, 7850.0, 6950.0, 7200.0, 7450.0, 6750.0, 7500.0, 7450.0, 7950.0, 7250.0, 7950.0, 8250.0, 8250.0, 6750.0, 8750.0, 8950.0, 8500.0, 8250.0, 9450.0, 7950.0, 7900.0, 8500.0, 8250.0, 8250.0, 8950.0, 7950.0, 6950.0, 7250.0, 7750.0, 8700.0, 8950.0, 6750.0, 7500.0, 7950.0, 8950.0, 7950.0, 7450.0, 5950.0, 7750.0, 6950.0, 8750.0, 8950.0, 7495.0, 7750.0, 6950.0, 7990.0, 7250.0, 6900.0, 7750.0, 7250.0, 8950.0, 8500.0, 7950.0, 6950.0, 8000.0, 7950.0, 8500.0, 7490.0, 8250.0, 9250.0, 7950.0, 9500.0, 8950.0, 8450.0, 7995.0, 8750.0, 5950.0, 8500.0, 8950.0, 8750.0, 7600.0, 7145.0, 8450.0, 5950.0, 9000.0, 7250.0, 7400.0, 8800.0, 7750.0, 7500.0, 8450.0, 7400.0, 7500.0, 8950.0, 8950.0, 7950.0, 7950.0, 7950.0, 8950.0, 7750.0, 8250.0, 7950.0, 7750.0, 8500.0, 6950.0, 7500.0, 7750.0, 5950.0, 7500.0, 8950.0, 7950.0, 6900.0, 7450.0, 8500.0, 7500.0, 8750.0, 7500.0, 9950.0, 7950.0, 9950.0, 9250.0, 9250.0, 9950.0, 5950.0, 7995.0, 8950.0, 7450.0, 8250.0, 8500.0, 8500.0, 9400.0, 7250.0, 8950.0, 9450.0, 8500.0, 6750.0, 7400.0, 8950.0, 6900.0, 7750.0, 8950.0, 6950.0, 8495.0, 10000.0, 6999.0, 8950.0, 8500.0, 8750.0, 7499.0, 9000.0, 8950.0, 6950.0, 8500.0, 8450.0, 8950.0, 8250.0, 7950.0, 7450.0, 9000.0, 7150.0, 7750.0, 5845.0, 8500.0, 8250.0, 9450.0, 6750.0, 8400.0, 7900.0, 7950.0, 8750.0, 9900.0, 6495.0, 8250.0, 6900.0, 7500.0, 7950.0, 8250.0, 8950.0, 9750.0, 8250.0, 8900.0, 8950.0, 6750.0, 7950.0, 8600.0, 7750.0, 7800.0, 8750.0, 9500.0, 7750.0, 9950.0, 7750.0, 5950.0, 10950.0, 9450.0, 8250.0, 9750.0, 7450.0, 8750.0, 8750.0, 8500.0, 8950.0, 7500.0, 7250.0, 7450.0, 8750.0, 9800.0, 7500.0, 8950.0, 8950.0, 7450.0, 8950.0, 10500.0, 7000.0, 8500.0, 7750.0, 8950.0, 8250.0, 9250.0, 7900.0, 8500.0, 7950.0, 9950.0, 8750.0, 7500.0, 6950.0, 8950.0, 8750.0, 7750.0, 8450.0, 8150.0, 8500.0, 7600.0, 7950.0, 7750.0, 7950.0, 9950.0, 8950.0, 8450.0, 8950.0, 8450.0, 7500.0, 10845.0, 8500.0, 7250.0, 6950.0]\n",
            "[23.0, 23.0, 24.0, 26.0, 30.0, 32.0, 27.0, 30.0, 27.0, 23.0, 25.0, 22.0, 25.0, 31.0, 32.0, 28.0, 30.0, 24.0, 24.0, 30.0, 30.0, 29.0, 28.0, 28.0, 29.0, 25.0, 27.0, 29.0, 28.0, 30.0, 29.0, 22.0, 27.0, nan, 22.0, 26.0, 25.0, 23.0, 32.0, 27.0, 22.0, 27.0, 22.0, 27.0, 22.0, 23.0, 27.0, 22.0, 22.0, 31.0, 22.0, 30.0, 26.0, 27.0, 25.0, nan, 28.0, 26.0, 23.0, 30.0, 22.0, 27.0, 31.0, 30.0, 27.0, 26.0, 28.0, 22.0, 22.0, 25.0, 28.0, 32.0, 28.0, 23.0, 28.0, 23.0, 31.0, 27.0, 29.0, 30.0, 25.0, 29.0, 25.0, nan, 25.0, 28.0, 30.0, 20.0, 19.0, 19.0, 20.0, 20.0, nan, 20.0, 20.0, 17.0, 19.0, 19.0, 11.0, 18.0, 20.0, 19.0, 13.0, 11.0, 11.0, nan, 14.0, 17.0, 20.0, nan, 4.0, 4.0, 8.0, 8.0, 7.0, 8.0, 8.0, nan, 20.0, nan, 13.0, 19.0, 14.0, 20.0, 17.0, 16.0, 20.0, 20.0, 17.0, 13.0, 20.0, 20.0, 19.0, 13.0, 20.0, 19.0, 19.0, 13.0, 11.0, 20.0, 20.0, 19.0, 13.0, 16.0, 15.0, 16.0, 20.0, 13.0, 19.0, 14.0, 20.0, 19.0, 10.0, 12.0, 13.0, 15.0, 16.0, 11.0, 17.0, 16.0, 16.0, 17.0, 9.0, 14.0, 11.0, 14.0, 14.0, 14.0, 12.0, 9.0, 9.0, 8.0, 8.0, 8.0, 8.0, 8.0, 8.0, 7.0, 8.0, 6.0, 7.0, 7.0, 2.0, nan, 1.0, 1.0, 43.0, 38.0, 40.0, 43.0, 40.0, 44.0, 44.0, 40.0, 41.0, 37.0, 44.0, 39.0, 42.0, nan, 44.0, 40.0, 42.0, 35.0, 43.0, 44.0, 40.0, 43.0, 41.0, 37.0, 41.0, 40.0, 34.0, 40.0, 33.0, 33.0, 33.0, 41.0, 44.0, 38.0, nan, 44.0, 40.0, 44.0, 35.0, 38.0, nan, nan, 42.0, 36.0, nan, 33.0, 42.0, 41.0, 41.0, 38.0, 44.0, 35.0, 44.0, 40.0, 38.0, 38.0, 43.0, 33.0, 33.0, 39.0, 42.0, nan, 43.0, 42.0, 33.0, 43.0, 43.0, 42.0, 39.0, 42.0, 38.0, 44.0, 44.0, 33.0, 41.0, 39.0, 41.0, 40.0, 39.0, 38.0, 44.0, 34.0, 40.0, 39.0, 33.0, 38.0, 35.0, nan, 43.0, 41.0, 39.0, 39.0, 43.0, 38.0, 35.0, 40.0, 39.0, 40.0, 41.0, 39.0, 40.0, 37.0, 44.0, 43.0, 36.0, 39.0, 35.0, 33.0, 42.0, 38.0, 44.0, 40.0, 35.0, 39.0, 37.0, 41.0, 43.0, 39.0, 44.0, 41.0, 44.0, 42.0, 37.0, 42.0, 40.0, 44.0, 42.0, 39.0, 43.0, 41.0, 44.0, 38.0, 42.0, 44.0, 40.0, 36.0, 37.0, 44.0, 39.0, 41.0, 42.0, 33.0, 35.0, 43.0, 41.0, nan, 38.0, 40.0, 34.0, 35.0, 33.0, 41.0, 43.0, 42.0, 41.0, 44.0, 42.0, 41.0, 33.0, 41.0, 40.0, 38.0, 43.0, 33.0, 39.0, 42.0, 38.0, 38.0, 43.0, 39.0, 39.0, nan, 43.0, 41.0, 39.0, 35.0, 41.0, 40.0, 38.0, 41.0, 35.0, 41.0, 37.0, 44.0, 39.0, 35.0, 40.0, 33.0, 40.0, 38.0, 39.0, 43.0, 53.0, 51.0, 53.0, 54.0, 45.0, 55.0, 54.0, 51.0, 53.0, 48.0, 48.0, nan, 55.0, 52.0, 49.0, 56.0, 50.0, 48.0, 53.0, 47.0, 55.0, 54.0, 53.0, 54.0, 56.0, 49.0, nan, 54.0, 51.0, 47.0, 50.0, 54.0, 50.0, 52.0, 48.0, 51.0, 49.0, 55.0, 51.0, 54.0, 55.0, 55.0, 49.0, 53.0, 53.0, 48.0, 52.0, 45.0, 49.0, 54.0, 50.0, 50.0, 50.0, 50.0, 54.0, 49.0, 49.0, 53.0, 47.0, 48.0, 55.0, 49.0, 54.0, 50.0, 46.0, 54.0, 48.0, 50.0, 55.0, 49.0, 56.0, 49.0, 50.0, 47.0, 49.0, nan, 50.0, 53.0, nan, nan, nan, 53.0, 55.0, 49.0, 46.0, 47.0, 49.0, nan, 46.0, 56.0, 52.0, 54.0, 50.0, 56.0, 52.0, 56.0, 48.0, 54.0, 54.0, 53.0, 54.0, 54.0, nan, nan, 54.0, 56.0, 54.0, 50.0, 50.0, 54.0, 56.0, 53.0, 47.0, 54.0, 51.0, 51.0, 54.0, 52.0, 54.0, 55.0, 56.0, 53.0, 51.0, 47.0, 53.0, nan, 48.0, 54.0, 53.0, 55.0, 50.0, 46.0, 52.0, 51.0, 51.0, 49.0, 56.0, 55.0, 55.0, 56.0, 48.0, 50.0, 54.0, 51.0, 53.0, 49.0, 51.0, 52.0, nan, 54.0, 56.0, nan, 48.0, 54.0, 54.0, 52.0, 53.0, 50.0, 56.0, 54.0, 56.0, nan, 47.0, 54.0, 52.0, 50.0, 50.0, 47.0, 56.0, 55.0, 56.0, 48.0, 49.0, 52.0, 49.0, nan, 49.0, 50.0, 47.0, 54.0, 47.0, 50.0, 54.0, 54.0, 47.0, 51.0, 56.0, 54.0, 55.0, 48.0, 52.0, nan, 45.0, 52.0, nan, 48.0, 49.0, 51.0, 46.0, 56.0, 55.0, 46.0, 49.0, nan, 56.0, 46.0, 55.0, 50.0, nan, 52.0, 48.0, 55.0, 48.0, 53.0, 47.0, 50.0, 50.0, 56.0, 50.0, 51.0, 48.0, 50.0, 47.0, 50.0, 52.0, 58.0, 68.0, 68.0, 59.0, 62.0, 65.0, 67.0, 68.0, 67.0, 59.0, 64.0, 64.0, 67.0, 62.0, 59.0, 64.0, 65.0, 68.0, 60.0, 59.0, 61.0, 67.0, 64.0, 58.0, 65.0, 64.0, 60.0, 59.0, 67.0, 67.0, 66.0, 62.0, 68.0, 61.0, 59.0, 64.0, 66.0, 68.0, 68.0, 68.0, 57.0, 64.0, 68.0, 65.0, 68.0, 64.0, 58.0, 60.0, 68.0, 63.0, 64.0, 65.0, 59.0, 67.0, 59.0, 68.0, 66.0, 62.0, 65.0, 61.0, 68.0, 62.0, 63.0, 68.0, 67.0, 64.0, 58.0, 59.0, nan, 68.0, 67.0, nan, 58.0, nan, 63.0, 68.0, 57.0, 61.0, 68.0, 57.0, 63.0, 68.0, 61.0, 65.0, 67.0, 59.0, 65.0, 64.0, 61.0, nan, 65.0, 66.0, 67.0, nan, 67.0, 61.0, nan, 65.0, 66.0, 63.0, 65.0, 65.0, 68.0, 62.0, 67.0, 61.0, 65.0, nan, nan, nan, 58.0, 68.0, 62.0, 60.0, 64.0, 63.0, 68.0, 63.0, 62.0, 57.0, 61.0, 62.0, 65.0, 59.0, 59.0, 59.0, 68.0, 65.0, 62.0, 60.0, 68.0, 65.0, 62.0, 68.0, 62.0, 67.0, 68.0, 64.0, 62.0, 58.0, 61.0, 65.0, 68.0, nan, 65.0, 61.0, 66.0, 61.0, 57.0, 65.0, 59.0, nan, 62.0, 65.0, 68.0, 65.0, 62.0, 60.0, 65.0, 67.0, 67.0, 59.0, 60.0, 61.0, 57.0, 59.0, 68.0, 64.0, 65.0, nan, nan, 68.0, 65.0, 63.0, 68.0, 68.0, 66.0, 61.0, 67.0, 59.0, 65.0, 61.0, 62.0, nan, 68.0, 65.0, 62.0, 66.0, 68.0, nan, 63.0, 60.0, 62.0, 60.0, 68.0, 64.0, 65.0, 67.0, 61.0, 64.0, 64.0, nan, nan, 58.0, 67.0, 63.0, 64.0, 57.0, 59.0, 65.0, 62.0, 60.0, 63.0, 58.0, 67.0, 62.0, 60.0, 59.0, 64.0, 65.0, 67.0, 68.0, 68.0, 58.0, 67.0, 68.0, 58.0, 63.0, 63.0, 63.0, 65.0, 65.0, 67.0, 68.0, 67.0, 59.0, 65.0, 68.0, 68.0, 61.0, 62.0, 65.0, 61.0, 63.0, 67.0, 65.0, 59.0, nan, 60.0, 64.0, 68.0, 57.0, 62.0, 68.0, 60.0, 62.0, 65.0, 63.0, 65.0, 67.0, 60.0, 68.0, 66.0, 58.0, 66.0, 65.0, nan, 65.0, 62.0, 67.0, 68.0, 65.0, 68.0, 66.0, 58.0, 60.0, 62.0, 57.0, 68.0, 68.0, 65.0, 58.0, 62.0, 59.0, 62.0, 61.0, 59.0, 60.0, 68.0, 57.0, 65.0, 59.0, 61.0, nan, 66.0, 65.0, 62.0, 65.0, 63.0, 63.0, 65.0, 61.0, 65.0, 68.0, 65.0, 66.0, 65.0, 60.0, 64.0, 66.0, 67.0, 58.0, 62.0, 68.0, 63.0, 65.0, 62.0, 61.0, 63.0, 63.0, 67.0, 63.0, 59.0, 62.0, 67.0, 63.0, 57.0, 61.0, 58.0, nan, 65.0, 65.0, 57.0, 63.0, 68.0, 67.0, 60.0, 61.0, 61.0, 57.0, 58.0, 57.0, 62.0, 65.0, 68.0, nan, 64.0, 67.0, 57.0, 60.0, 66.0, 61.0, 58.0, 58.0, 61.0, 65.0, 61.0, 66.0, 59.0, 61.0, 62.0, 65.0, 67.0, 62.0, 61.0, 63.0, 62.0, 63.0, 68.0, nan, 58.0, 60.0, 65.0, 59.0, nan, 65.0, 65.0, 57.0, 57.0, 65.0, 66.0, 63.0, 61.0, 63.0, 61.0, nan, 59.0, 60.0, nan, 68.0, 57.0, 64.0, 68.0, 67.0, 63.0, 64.0, 57.0, 60.0, 66.0, 66.0, 62.0, 61.0, nan, 61.0, 60.0, 62.0, 59.0, 60.0, 63.0, 66.0, 65.0, 65.0, 62.0, 65.0, 68.0, 57.0, 64.0, 58.0, 68.0, 57.0, 65.0, 59.0, 65.0, nan, 57.0, 68.0, 58.0, 68.0, 60.0, 60.0, 57.0, 68.0, 62.0, 62.0, 58.0, 66.0, 59.0, nan, 62.0, 67.0, 66.0, 73.0, 79.0, 78.0, 79.0, 74.0, 77.0, 69.0, 80.0, 76.0, 76.0, 78.0, 70.0, 73.0, 78.0, 77.0, 77.0, 71.0, 78.0, 80.0, 78.0, 74.0, 73.0, 69.0, 73.0, 78.0, 69.0, 76.0, 70.0, 71.0, 75.0, 69.0, 75.0, 77.0, 80.0, 71.0, nan, 74.0, 80.0, nan, 71.0, 73.0, 79.0, 77.0, 74.0, 78.0, 77.0, 80.0, 73.0, 71.0, 72.0, 77.0, 76.0, 75.0, 74.0, 70.0, nan, 74.0, 72.0, 75.0, 74.0, 80.0, 77.0, 74.0, nan, 71.0, 76.0, 74.0, 71.0, 78.0, 73.0, 76.0, nan, 78.0, 77.0, 73.0, 74.0, 72.0, 73.0, 80.0, 76.0, 80.0, 72.0, 80.0, 75.0, nan, 71.0, 73.0, 75.0, 74.0, 71.0, 72.0, 72.0, 77.0, 80.0, 76.0, 74.0, 74.0, 73.0, 80.0, 75.0, 77.0, 75.0, 74.0, 75.0, 74.0, 74.0, 79.0, 78.0, 80.0, 75.0, 80.0, 73.0, 79.0, 69.0, 72.0, 79.0, 71.0, 77.0, 80.0, 78.0, 73.0, 73.0, 69.0, 74.0, 78.0, nan, 78.0, 79.0, 78.0, 79.0, 80.0, nan, nan, 79.0, 72.0, 79.0, 77.0, 80.0, 80.0, 80.0, 72.0, 70.0, 78.0, 75.0, 71.0, 78.0, 77.0, 78.0, 77.0, 70.0, 78.0, 74.0, 79.0, 76.0, nan, 69.0, 74.0, 72.0, 73.0, 75.0, 78.0, 75.0, 73.0, nan, 70.0, 78.0, nan, 80.0, 72.0, 80.0, 79.0, 80.0, 70.0, 80.0, 70.0, 73.0, 70.0, 73.0, 79.0, 76.0, 73.0, 74.0, nan, 78.0, 77.0, 75.0, nan, 76.0, 71.0, 69.0, 71.0, 71.0, nan, 78.0, 75.0, 77.0, 80.0, 71.0, 79.0, 76.0, 70.0, 77.0, 78.0, 69.0, 74.0, nan, 77.0, 71.0, 72.0, 77.0, nan, 75.0, 76.0, 73.0, 80.0, 71.0, 72.0, 77.0, 72.0, 78.0, 79.0, 78.0, 71.0, 73.0, 69.0, 69.0, 78.0, 80.0, 69.0, nan, 80.0, 80.0, 75.0, 79.0, 71.0, 75.0, 78.0, nan, 80.0, 76.0, nan, 77.0, 79.0, 78.0, 71.0, 78.0, 78.0, 78.0, 77.0, 77.0, 80.0, 80.0, 79.0, 79.0, 78.0, 72.0, 76.0, 80.0, 77.0, 80.0, 73.0, 77.0, 76.0, 80.0, 75.0, 75.0, 78.0, 73.0, nan, 74.0, nan, nan, 75.0, nan, 78.0, 70.0, 69.0, 80.0, 79.0, 80.0, 74.0, 80.0, 80.0, 78.0, 80.0, 79.0, 71.0, 75.0, 77.0, 75.0, 71.0, 80.0, 79.0, 75.0, 80.0, nan, 77.0, 80.0, 77.0, 77.0, 74.0, 77.0, 75.0, 70.0, 79.0, 70.0, 76.0, 70.0, 72.0, 80.0, 79.0, 69.0, 77.0, 76.0, 76.0, 80.0, 73.0, 71.0, 70.0, 69.0, 74.0, 75.0, 80.0, 80.0, 70.0, 80.0, 78.0, 75.0, 76.0, 75.0, 69.0, nan, nan, 73.0, 79.0, nan, 79.0, 77.0, 69.0, 76.0, 77.0, 80.0, 69.0, 78.0, 75.0, 69.0, 73.0, 70.0, 79.0, 69.0, 80.0, 76.0, 77.0, 71.0, 75.0, 74.0, 70.0, 71.0, nan, 73.0, 77.0, 76.0, 70.0, 69.0, nan, 75.0, 78.0, 76.0, 69.0, 74.0, 80.0, 72.0, nan, 79.0, 73.0, 75.0, 76.0, 78.0, nan, 80.0, 73.0, 80.0, 78.0, nan, 72.0, 78.0, 80.0, nan, 72.0, nan, 70.0, 76.0]\n",
            "4350.0\n",
            "32500.0\n"
          ],
          "name": "stdout"
        }
      ]
    },
    {
      "cell_type": "code",
      "metadata": {
        "colab": {
          "base_uri": "https://localhost:8080/",
          "height": 824
        },
        "id": "9GWlDG-6cPIs",
        "outputId": "9e09dc9d-0a77-4eae-b76e-7805480f3698"
      },
      "source": [
        "# Step 4 : Perform scaling on age and price\n",
        "\n",
        "scaler = MinMaxScaler()\n",
        "X_scaled = scaler.fit_transform(X_new)\n",
        "print(\"\\n\\nScaled X : \\n\", X_scaled)\n",
        "#print(type(X_scaled))\n",
        "#print(type(X_scaled[0]))\n",
        "#print(X_scaled[:,0:1])\n",
        "\n",
        "import matplotlib.pyplot as plt\n",
        "plt.figure(figsize=(8,6))\n",
        "plt.hist(X_new[:,0:1],histtype ='bar',bins=100, alpha=0.5,color ='green',label ='X_new')\n",
        "plt.legend(loc='upper right')\n",
        "plt.xlabel('Distinct price values',size=13)\n",
        "plt.ylabel('Frequency of each price',size=13)\n",
        "plt.show()\n",
        "\n",
        "plt.hist(X_scaled[:,0:1],histtype ='bar', bins=100, alpha=0.5,color ='blue',label ='X_scaled')\n",
        "plt.legend(loc='upper right')\n",
        "plt.xlabel('Distinct price values',size=13)\n",
        "plt.ylabel('Frequency of each price',size=13)\n",
        "plt.show()"
      ],
      "execution_count": null,
      "outputs": [
        {
          "output_type": "stream",
          "text": [
            "\n",
            "\n",
            "Scaled X : \n",
            " [[0.3250444  0.27848101]\n",
            " [0.3339254  0.27848101]\n",
            " [0.3410302  0.29113924]\n",
            " ...\n",
            " [0.14742451        nan]\n",
            " [0.10301954 0.87341772]\n",
            " [0.09236234 0.94936709]]\n"
          ],
          "name": "stdout"
        },
        {
          "output_type": "display_data",
          "data": {
            "image/png": "[encoded data removed]",
            "text/plain": [
              "<Figure size 576x432 with 1 Axes>"
            ]
          },
          "metadata": {
            "needs_background": "light"
          }
        },
        {
          "output_type": "display_data",
          "data": {
            "image/png": "[encoded data removed]",
            "text/plain": [
              "<Figure size 432x288 with 1 Axes>"
            ]
          },
          "metadata": {
            "needs_background": "light"
          }
        }
      ]
    },
    {
      "cell_type": "markdown",
      "metadata": {
        "id": "Scgpy-JptveQ"
      },
      "source": [
        "### **Standardization ( Z-Score)**\n",
        "\n",
        "![Screenshot from 2021-08-23 16-45-58.png](data:image/png;base64,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)"
      ]
    },
    {
      "cell_type": "markdown",
      "metadata": {
        "id": "FE_qihG3v98I"
      },
      "source": [
        "**Standard deviation**\n",
        "\n",
        "![Screenshot from 2021-08-23 16-46-27.png](data:image/png;base64,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)"
      ]
    },
    {
      "cell_type": "markdown",
      "metadata": {
        "id": "rBRZhVv_wTNM"
      },
      "source": [
        "Here μ is mean, xi - value of feature, N - total no of samples"
      ]
    },
    {
      "cell_type": "markdown",
      "metadata": {
        "id": "W93yC-4yCmaf"
      },
      "source": [
        "**Mean**\n",
        "\n",
        "![Screenshot from 2021-08-23 18-13-19.png](data:image/png;base64,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)"
      ]
    },
    {
      "cell_type": "code",
      "metadata": {
        "colab": {
          "base_uri": "https://localhost:8080/"
        },
        "id": "BfslZvhhy39r",
        "outputId": "3c91f2ff-d84e-49a7-f7d9-8c846c2f9c23"
      },
      "source": [
        "def variance(data):\n",
        "...     n = len(data)\n",
        "...     mean = sum(data) / n\n",
        "...     deviations = [(x - mean) ** 2 for x in data]\n",
        "...     variance = sum(deviations) / n\n",
        "...     return variance\n",
        "variance(prices)"
      ],
      "execution_count": null,
      "outputs": [
        {
          "output_type": "execute_result",
          "data": {
            "text/plain": [
              "13145711.325750075"
            ]
          },
          "metadata": {},
          "execution_count": 28
        }
      ]
    },
    {
      "cell_type": "markdown",
      "metadata": {
        "id": "vl-wgvmywK4g"
      },
      "source": [
        "Here for example, price[0]=13500\n",
        "\n",
        "x̄ = (13500.0+...+6950.0)/1436 = 10730.824512535\n",
        "\n",
        "σ = √ (13145711.325750075) = 3625.701494297\n",
        "\n",
        "x' = (13500 - 10730.824512535)/3625.701494297 = 0.763762679"
      ]
    },
    {
      "cell_type": "code",
      "metadata": {
        "colab": {
          "base_uri": "https://localhost:8080/"
        },
        "id": "1Vm28hrUcPJI",
        "outputId": "4945c467-e520-46ac-d549-2d13f3e0c79f"
      },
      "source": [
        "# Step 5 : Perform standardization on age and salary\n",
        "\n",
        "std = StandardScaler()\n",
        "X_std = std.fit_transform(X_new)\n",
        "print(\"\\n\\nStandardized X : \\n\", X_std)"
      ],
      "execution_count": null,
      "outputs": [
        {
          "output_type": "stream",
          "text": [
            "\n",
            "\n",
            "Standardized X : \n",
            " [[ 0.76376268 -1.75818903]\n",
            " [ 0.83271485 -1.75818903]\n",
            " [ 0.88787659 -1.70437596]\n",
            " ...\n",
            " [-0.6152808          nan]\n",
            " [-0.96004167  0.7710253 ]\n",
            " [-1.04278428  1.09390373]]\n"
          ],
          "name": "stdout"
        }
      ]
    },
    {
      "cell_type": "code",
      "metadata": {
        "colab": {
          "base_uri": "https://localhost:8080/",
          "height": 656
        },
        "id": "Ap82pRK6EC0e",
        "outputId": "66541635-5973-4104-f809-7ff0d1c9ea12"
      },
      "source": [
        "plt.figure(figsize=(8,6))\n",
        "plt.hist(X_new[:,0:1],histtype ='bar',bins=100, alpha=0.5,color ='green',label ='X_new')\n",
        "plt.legend(loc='upper right')\n",
        "plt.xlabel('Distinct price values',size=13)\n",
        "plt.ylabel('Frequency of each price',size=13)\n",
        "plt.show()\n",
        "\n",
        "plt.hist(X_std[:,0:1],histtype ='bar', bins=100, alpha=0.5,color ='blue',label ='X_std')\n",
        "plt.legend(loc='upper right')\n",
        "plt.xlabel('Distinct price values',size=13)\n",
        "plt.ylabel('Frequency of each price',size=13)\n",
        "plt.show()"
      ],
      "execution_count": null,
      "outputs": [
        {
          "output_type": "display_data",
          "data": {
            "image/png": "[encoded data removed]",
            "text/plain": [
              "<Figure size 576x432 with 1 Axes>"
            ]
          },
          "metadata": {
            "needs_background": "light"
          }
        },
        {
          "output_type": "display_data",
          "data": {
            "image/png": "[encoded data removed]",
            "text/plain": [
              "<Figure size 432x288 with 1 Axes>"
            ]
          },
          "metadata": {
            "needs_background": "light"
          }
        }
      ]
    },
    {
      "cell_type": "markdown",
      "metadata": {
        "id": "7_J6BsrnPfck"
      },
      "source": [
        "# **Handling Categorical Data**"
      ]
    },
    {
      "cell_type": "code",
      "metadata": {
        "id": "NeTtA0BNPiMS"
      },
      "source": [
        "import numpy as np \n",
        "import pandas as pd\n",
        "from sklearn.preprocessing import LabelEncoder,OneHotEncoder"
      ],
      "execution_count": null,
      "outputs": []
    },
    {
      "cell_type": "code",
      "metadata": {
        "colab": {
          "base_uri": "https://localhost:8080/"
        },
        "id": "K_6kT1ohP2k7",
        "outputId": "ab31ea13-5e64-4743-cd53-baa4ae2ebcb9"
      },
      "source": [
        "datasets = pd.read_csv('Data_for_Categorical_Values.csv') \n",
        "print(\"\\nData :\\n\",datasets)\n",
        "#print(\"\\nData statistics\\n\",datasets.describe())"
      ],
      "execution_count": null,
      "outputs": [
        {
          "output_type": "stream",
          "name": "stdout",
          "text": [
            "\n",
            "Data :\n",
            "     Country  Age  Salary Purchased\n",
            "0    France   44   72000        No\n",
            "1     Spain   27   48000       Yes\n",
            "2   Germany   30   54000        No\n",
            "3     Spain   38   61000        No\n",
            "4   Germany   40   68000       Yes\n",
            "5    France   35   58000       Yes\n",
            "6     Spain   39   52000        No\n",
            "7    France   48   79000       Yes\n",
            "8   Germany   50   83000        No\n",
            "9    France   37   67000       Yes\n",
            "10    Spain   45   55000        No\n"
          ]
        }
      ]
    },
    {
      "cell_type": "code",
      "metadata": {
        "id": "rdkozNnbP2hO"
      },
      "source": [
        "X = datasets.iloc[:, :-1].values \n",
        "Y = datasets.iloc[:, -1].values \n",
        "#print(\"\\n\\nInput : \\n\", X)\n",
        "#print(\"\\n\\nOutput: \\n\", Y)"
      ],
      "execution_count": null,
      "outputs": []
    },
    {
      "cell_type": "markdown",
      "metadata": {
        "id": "MlSC3wsMQTRI"
      },
      "source": [
        "### **Label Encoding**\n",
        "\n",
        "Here 0th column is having value as string which is not understandable by model, so we need to convert it to numerical form which is done by Label-Encoder."
      ]
    },
    {
      "cell_type": "code",
      "metadata": {
        "colab": {
          "base_uri": "https://localhost:8080/"
        },
        "id": "x9ctf6SVQDRZ",
        "outputId": "3d9d12ca-d55e-40e3-9708-554a428db135"
      },
      "source": [
        "le = LabelEncoder()\n",
        "X[ : ,0] = le.fit_transform(X[ : ,0])\n",
        "print(\"\\n\\nInput : \\n\", X) "
      ],
      "execution_count": null,
      "outputs": [
        {
          "output_type": "stream",
          "name": "stdout",
          "text": [
            "\n",
            "\n",
            "Input : \n",
            " [[0 44 72000]\n",
            " [2 27 48000]\n",
            " [1 30 54000]\n",
            " [2 38 61000]\n",
            " [1 40 68000]\n",
            " [0 35 58000]\n",
            " [2 39 52000]\n",
            " [0 48 79000]\n",
            " [1 50 83000]\n",
            " [0 37 67000]\n",
            " [2 45 55000]]\n"
          ]
        }
      ]
    },
    {
      "cell_type": "markdown",
      "metadata": {
        "id": "nRWB4tuBRAa1"
      },
      "source": [
        "### **One hot Encoding**\n",
        "\n",
        "We need to split the column into multiple columns. The numbers are replaced by 0 and 1 depending on which column has what values.\n",
        "\n",
        "Here we have splited Country column into 3 columns, France, Germany, Spain and give 0 and 1 value to each 3 column accordingly if that row has particular value or not."
      ]
    },
    {
      "cell_type": "code",
      "metadata": {
        "colab": {
          "base_uri": "https://localhost:8080/"
        },
        "id": "WzfcBQLyREcl",
        "outputId": "93c53aa0-52df-4f81-9059-b512e488993f"
      },
      "source": [
        "dummy = pd.get_dummies(datasets['Country'])\n",
        "print(\"\\n\\nDummy :\\n\",dummy)\n",
        "\n",
        "# axis{0 or ‘index’, 1 or ‘columns’}\n",
        "datasets = datasets.drop(['Country','Purchased'],axis=1)\n",
        "datasets = pd.concat([dummy,datasets],axis=1)\n",
        "print(\"\\n\\nFinal Data :\\n\",datasets)"
      ],
      "execution_count": null,
      "outputs": [
        {
          "output_type": "stream",
          "name": "stdout",
          "text": [
            "\n",
            "\n",
            "Dummy :\n",
            "     France  Germany  Spain\n",
            "0        1        0      0\n",
            "1        0        0      1\n",
            "2        0        1      0\n",
            "3        0        0      1\n",
            "4        0        1      0\n",
            "5        1        0      0\n",
            "6        0        0      1\n",
            "7        1        0      0\n",
            "8        0        1      0\n",
            "9        1        0      0\n",
            "10       0        0      1\n",
            "\n",
            "\n",
            "Final Data :\n",
            "     France  Germany  Spain  Age  Salary\n",
            "0        1        0      0   44   72000\n",
            "1        0        0      1   27   48000\n",
            "2        0        1      0   30   54000\n",
            "3        0        0      1   38   61000\n",
            "4        0        1      0   40   68000\n",
            "5        1        0      0   35   58000\n",
            "6        0        0      1   39   52000\n",
            "7        1        0      0   48   79000\n",
            "8        0        1      0   50   83000\n",
            "9        1        0      0   37   67000\n",
            "10       0        0      1   45   55000\n"
          ]
        }
      ]
    },
    {
      "cell_type": "markdown",
      "metadata": {
        "id": "66RgZllXS4gW"
      },
      "source": [
        "# **Feature Selection Correlation**\n",
        "\n",
        "If independent feature is highly correlated with dependent feature, we need not drop that feature because it places an important role in training the model.\n",
        "\n",
        "But, if two or more indepenedent feature is highly correlated with each other, then we remove those feature and use one feature instead of them. Because other behaves like duplicate features."
      ]
    },
    {
      "cell_type": "code",
      "metadata": {
        "id": "lEuILNdTS_kH"
      },
      "source": [
        "import numpy as np\n",
        "import pandas as pd\n",
        "import seaborn as sns"
      ],
      "execution_count": null,
      "outputs": []
    },
    {
      "cell_type": "code",
      "metadata": {
        "colab": {
          "base_uri": "https://localhost:8080/",
          "height": 203
        },
        "id": "G2srhzCMTxVO",
        "outputId": "b4f7a009-379a-428d-a14a-bd771d26b3ad"
      },
      "source": [
        "data = pd.read_csv('Data_for_Correlation.csv')\n",
        "data = data.iloc[:,:-1]\n",
        "data.head()"
      ],
      "execution_count": null,
      "outputs": [
        {
          "output_type": "execute_result",
          "data": {
            "text/html": [
              "<div>\n",
              "<style scoped>\n",
              "    .dataframe tbody tr th:only-of-type {\n",
              "        vertical-align: middle;\n",
              "    }\n",
              "\n",
              "    .dataframe tbody tr th {\n",
              "        vertical-align: top;\n",
              "    }\n",
              "\n",
              "    .dataframe thead th {\n",
              "        text-align: right;\n",
              "    }\n",
              "</style>\n",
              "<table border=\"1\" class=\"dataframe\">\n",
              "  <thead>\n",
              "    <tr style=\"text-align: right;\">\n",
              "      <th></th>\n",
              "      <th>X1</th>\n",
              "      <th>X2</th>\n",
              "      <th>X3</th>\n",
              "      <th>X4</th>\n",
              "    </tr>\n",
              "  </thead>\n",
              "  <tbody>\n",
              "    <tr>\n",
              "      <th>0</th>\n",
              "      <td>1</td>\n",
              "      <td>1</td>\n",
              "      <td>4</td>\n",
              "      <td>-2</td>\n",
              "    </tr>\n",
              "    <tr>\n",
              "      <th>1</th>\n",
              "      <td>2</td>\n",
              "      <td>4</td>\n",
              "      <td>5</td>\n",
              "      <td>-4</td>\n",
              "    </tr>\n",
              "    <tr>\n",
              "      <th>2</th>\n",
              "      <td>3</td>\n",
              "      <td>9</td>\n",
              "      <td>6</td>\n",
              "      <td>3</td>\n",
              "    </tr>\n",
              "    <tr>\n",
              "      <th>3</th>\n",
              "      <td>4</td>\n",
              "      <td>16</td>\n",
              "      <td>7</td>\n",
              "      <td>4</td>\n",
              "    </tr>\n",
              "    <tr>\n",
              "      <th>4</th>\n",
              "      <td>5</td>\n",
              "      <td>25</td>\n",
              "      <td>8</td>\n",
              "      <td>25</td>\n",
              "    </tr>\n",
              "  </tbody>\n",
              "</table>\n",
              "</div>"
            ],
            "text/plain": [
              "   X1  X2  X3  X4\n",
              "0   1   1   4  -2\n",
              "1   2   4   5  -4\n",
              "2   3   9   6   3\n",
              "3   4  16   7   4\n",
              "4   5  25   8  25"
            ]
          },
          "metadata": {},
          "execution_count": 31
        }
      ]
    },
    {
      "cell_type": "code",
      "metadata": {
        "colab": {
          "base_uri": "https://localhost:8080/"
        },
        "id": "E31JndlXURUO",
        "outputId": "8fd22bf8-ad02-4565-c435-7544e784c01c"
      },
      "source": [
        "data.info()"
      ],
      "execution_count": null,
      "outputs": [
        {
          "output_type": "stream",
          "name": "stdout",
          "text": [
            "<class 'pandas.core.frame.DataFrame'>\n",
            "RangeIndex: 14 entries, 0 to 13\n",
            "Data columns (total 4 columns):\n",
            " #   Column  Non-Null Count  Dtype\n",
            "---  ------  --------------  -----\n",
            " 0   X1      14 non-null     int64\n",
            " 1   X2      14 non-null     int64\n",
            " 2   X3      14 non-null     int64\n",
            " 3   X4      14 non-null     int64\n",
            "dtypes: int64(4)\n",
            "memory usage: 576.0 bytes\n"
          ]
        }
      ]
    },
    {
      "cell_type": "code",
      "metadata": {
        "colab": {
          "base_uri": "https://localhost:8080/",
          "height": 172
        },
        "id": "i-cAmOcnWblI",
        "outputId": "80296104-142d-4c4b-eacc-e5c0dfc2851a"
      },
      "source": [
        "# Correlation matrix\n",
        "# correlation value ranges between -1 to 1.\n",
        "\n",
        "corr = data.corr()\n",
        "corr.head()"
      ],
      "execution_count": null,
      "outputs": [
        {
          "output_type": "execute_result",
          "data": {
            "text/html": [
              "<div>\n",
              "<style scoped>\n",
              "    .dataframe tbody tr th:only-of-type {\n",
              "        vertical-align: middle;\n",
              "    }\n",
              "\n",
              "    .dataframe tbody tr th {\n",
              "        vertical-align: top;\n",
              "    }\n",
              "\n",
              "    .dataframe thead th {\n",
              "        text-align: right;\n",
              "    }\n",
              "</style>\n",
              "<table border=\"1\" class=\"dataframe\">\n",
              "  <thead>\n",
              "    <tr style=\"text-align: right;\">\n",
              "      <th></th>\n",
              "      <th>X1</th>\n",
              "      <th>X2</th>\n",
              "      <th>X3</th>\n",
              "      <th>X4</th>\n",
              "    </tr>\n",
              "  </thead>\n",
              "  <tbody>\n",
              "    <tr>\n",
              "      <th>X1</th>\n",
              "      <td>1.000000</td>\n",
              "      <td>0.972714</td>\n",
              "      <td>1.000000</td>\n",
              "      <td>0.263266</td>\n",
              "    </tr>\n",
              "    <tr>\n",
              "      <th>X2</th>\n",
              "      <td>0.972714</td>\n",
              "      <td>1.000000</td>\n",
              "      <td>0.972714</td>\n",
              "      <td>0.163575</td>\n",
              "    </tr>\n",
              "    <tr>\n",
              "      <th>X3</th>\n",
              "      <td>1.000000</td>\n",
              "      <td>0.972714</td>\n",
              "      <td>1.000000</td>\n",
              "      <td>0.263266</td>\n",
              "    </tr>\n",
              "    <tr>\n",
              "      <th>X4</th>\n",
              "      <td>0.263266</td>\n",
              "      <td>0.163575</td>\n",
              "      <td>0.263266</td>\n",
              "      <td>1.000000</td>\n",
              "    </tr>\n",
              "  </tbody>\n",
              "</table>\n",
              "</div>"
            ],
            "text/plain": [
              "          X1        X2        X3        X4\n",
              "X1  1.000000  0.972714  1.000000  0.263266\n",
              "X2  0.972714  1.000000  0.972714  0.163575\n",
              "X3  1.000000  0.972714  1.000000  0.263266\n",
              "X4  0.263266  0.163575  0.263266  1.000000"
            ]
          },
          "metadata": {},
          "execution_count": 33
        }
      ]
    },
    {
      "cell_type": "code",
      "metadata": {
        "colab": {
          "base_uri": "https://localhost:8080/",
          "height": 286
        },
        "id": "66-Hug44Xi1Z",
        "outputId": "240b6bbb-d048-4390-d783-3279657170bd"
      },
      "source": [
        "sns.heatmap(corr)"
      ],
      "execution_count": null,
      "outputs": [
        {
          "output_type": "execute_result",
          "data": {
            "text/plain": [
              "<matplotlib.axes._subplots.AxesSubplot at 0x7ff243c9cf10>"
            ]
          },
          "metadata": {},
          "execution_count": 36
        },
        {
          "output_type": "display_data",
          "data": {
            "image/png": "[encoded data removed]",
            "text/plain": [
              "<Figure size 432x288 with 2 Axes>"
            ]
          },
          "metadata": {
            "needs_background": "light"
          }
        }
      ]
    },
    {
      "cell_type": "code",
      "metadata": {
        "colab": {
          "base_uri": "https://localhost:8080/"
        },
        "id": "_NiE6TuLYCBl",
        "outputId": "cea4e928-7c21-42d8-b0e6-6a7c7448d72f"
      },
      "source": [
        "# Correlation matrix size\n",
        "corr.shape"
      ],
      "execution_count": null,
      "outputs": [
        {
          "output_type": "execute_result",
          "data": {
            "text/plain": [
              "(4, 4)"
            ]
          },
          "metadata": {},
          "execution_count": 42
        }
      ]
    },
    {
      "cell_type": "code",
      "metadata": {
        "id": "15JDrho6X8uw"
      },
      "source": [
        "columns = np.full((corr.shape[0],), True, dtype=bool)\n",
        "for i in range(corr.shape[0]):\n",
        "    for j in range(i+1, corr.shape[0]):\n",
        "        if corr.iloc[i,j] >= 0.9:\n",
        "            if columns[j]:\n",
        "                columns[j] = False"
      ],
      "execution_count": null,
      "outputs": []
    },
    {
      "cell_type": "code",
      "metadata": {
        "colab": {
          "base_uri": "https://localhost:8080/"
        },
        "id": "FIXH_WgkX-On",
        "outputId": "58eba5f0-6ba1-4325-b467-1b37aa570173"
      },
      "source": [
        "selected_columns = data.columns[columns]\n",
        "selected_columns.shape"
      ],
      "execution_count": null,
      "outputs": [
        {
          "output_type": "execute_result",
          "data": {
            "text/plain": [
              "(2,)"
            ]
          },
          "metadata": {},
          "execution_count": 44
        }
      ]
    },
    {
      "cell_type": "code",
      "metadata": {
        "colab": {
          "base_uri": "https://localhost:8080/"
        },
        "id": "gxLZeSxEX_qf",
        "outputId": "c59e5358-9899-42eb-bfc3-6484d12e5480"
      },
      "source": [
        "data = data[selected_columns]\n",
        "print(data)"
      ],
      "execution_count": null,
      "outputs": [
        {
          "output_type": "stream",
          "name": "stdout",
          "text": [
            "    X1   X4\n",
            "0    1   -2\n",
            "1    2   -4\n",
            "2    3    3\n",
            "3    4    4\n",
            "4    5   25\n",
            "5    6   76\n",
            "6    7   34\n",
            "7    8  346\n",
            "8    9   67\n",
            "9   10    3\n",
            "10  11  355\n",
            "11  12   88\n",
            "12  13    2\n",
            "13  14    1\n"
          ]
        }
      ]
    }
  ]
}